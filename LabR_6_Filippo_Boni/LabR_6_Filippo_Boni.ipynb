{
 "cells": [
  {
   "cell_type": "code",
   "execution_count": null,
   "metadata": {},
   "outputs": [],
   "source": [
    "rm(list=ls())"
   ],
   "id": "07b36302-d920-44eb-b627-555c0440bddd"
  },
  {
   "cell_type": "code",
   "execution_count": null,
   "metadata": {},
   "outputs": [],
   "source": [
    "library(ggplot2)\n",
    "library(tibble)\n",
    "library(dplyr)\n",
    "library(ggplot2)\n",
    "library(readr)\n",
    "library(lubridate)\n",
    "library(dplyr)\n",
    "library(copula)\n",
    "library(viridisLite)"
   ],
   "id": "11ee61a2-f029-4451-a093-7a074c958ea5"
  },
  {
   "cell_type": "markdown",
   "metadata": {},
   "source": [
    "#Exercise 1\n",
    "\n",
    "##point a\n",
    "\n",
    "The distribution that of y is binomial distribution. Indeed there are\n",
    "two possible states for a patient: he has or he has not the disease"
   ],
   "id": "958412f9-75fa-43f6-a463-cfdcc41f34aa"
  },
  {
   "cell_type": "code",
   "execution_count": null,
   "metadata": {},
   "outputs": [],
   "source": [
    "y<-seq(0,75,1)\n",
    "n<-75\n",
    "p<-15/100\n",
    "failure_dis<-dbinom(y,n,p)/sum(dbinom(y,n,p))\n",
    "plot(y,failure_dis,xlab=\"number of failures\", ylab=\"pdf\",main= 'Failure distribution (binomial(n=75,p=0.15))',type=\"l\",col='red',lwd=3,xlim=c(0,30))\n",
    "axis(side = 1, seq(0,75,5))\n",
    "axis(side = 2, seq(0,0.12,0.02))"
   ],
   "id": "147d2a98-c995-483a-ab0c-4d21e34f01b4"
  },
  {
   "cell_type": "markdown",
   "metadata": {},
   "source": [
    "##point b The frequentist estimator it is the one of a binomial\n",
    "distribution: p=y/n"
   ],
   "id": "0cb244e3-9d00-48b0-a9b1-4d787eeb3c71"
  },
  {
   "cell_type": "code",
   "execution_count": null,
   "metadata": {},
   "outputs": [],
   "source": [
    "n<-75\n",
    "y<-6\n",
    "\n",
    "p <- y/n\n",
    "cat('the frequentist estimator is: ',p)"
   ],
   "id": "7546bb7d-ee3d-4762-a347-1b953fb7c08c"
  },
  {
   "cell_type": "markdown",
   "metadata": {},
   "source": [
    "##point c In order to calculate the parameters α and β given the mean\n",
    "and the the standard deviation we need to consider the two formulas used\n",
    "to calculate this two quantities in the Beta(α,β) distribution and\n",
    "invert them.The resulting formulas are the one used:\n",
    "\n",
    "Given the mean µ and the standard deviation σ:\n",
    "\n",
    "-   α = (µ^2)\\*((1-µ)/σ^2 - 1/µ)\n",
    "-   β = α(1/µ-1)\n",
    "\n",
    "given this two parameters of a Beta(α,β) and the likelihood distribution\n",
    "which is a binomial distribution I have that the posterior is\n",
    "Beta(α+y,β+n-y)"
   ],
   "id": "34560bd3-bd6b-4633-8d29-135e0381ed53"
  },
  {
   "cell_type": "code",
   "execution_count": null,
   "metadata": {},
   "outputs": [],
   "source": [
    "mu<-0.15\n",
    "var<-0.14*0.14\n",
    "\n",
    "a<-(mu^2)*(((1-mu)/(var))-1/mu) \n",
    "b<-a*((1/mu)-1)\n",
    "cat('the parameter α of the prior is:',a)\n",
    "cat('\\n')\n",
    "cat('the parameter β of the prior is:',b)\n",
    "cat('\\n')\n",
    "\n",
    "\n",
    "step <- 0.001\n",
    "q<-seq(from=0,to=1,by=step)\n",
    "\n",
    "posterior_unnorm<-dbeta(q,y+a,n-y+b)\n",
    "\n",
    "Z<-sum(posterior_unnorm)*step\n",
    "\n",
    "post<-posterior_unnorm/Z\n",
    "\n",
    "plot(q,post,type='l',col='navy',xlab=\"p\", ylab=\"posterior\",xlim = c(0,0.25), cex.lab=1, cex.axis=1, cex.main=1.5, lwd=3)\n",
    "lines(q,dbeta(q,a,b),type='l', lwd=2,col='darkgreen',lty=2)\n",
    "title(\"Posterior distribution of y(Beta(0.83,4.68) prior)\", line = 1.3,lty=2)\n",
    "\n",
    "a_post<-y+a\n",
    "b_post<-n-y+b\n",
    "mean<-a_post/(a_post+b_post)\n",
    "sigma<-((a_post*b_post)/(((a_post+b_post)^2)*(a_post+b_post+1)))^(1/2)\n",
    "\n",
    "abline(v = mean, col=\"darkred\", lwd=2, lty=1)\n",
    "abline(v = mean + sigma, col=\"darkred\", lwd=2, lty=2)\n",
    "abline(v = mean - sigma, col=\"darkred\", lwd=2, lty=2)\n",
    "text(mean, 14, labels=expression(\"µ=0.085\"), pos=3, cex=0.8, col=\"darkred\",  xpd=TRUE)\n",
    "text(mean + sigma, 14, labels=expression(\"σ=µ+0.031\"), pos=3, ,cex=0.8, col=\"darkred\",  xpd=TRUE)\n",
    "text(mean - sigma, 14, labels=expression(\"σ\"), pos=3, cex=0.8, col=\"darkred\",  xpd=TRUE)\n",
    "legend('topleft', legend=c(\"posterior\", \"prior\"),col=c(\"navy\", \"darkgreen\"), lty=1, cex=1)"
   ],
   "id": "58f72565-a2d8-405e-85dc-fdd67fceabfe"
  },
  {
   "cell_type": "code",
   "execution_count": null,
   "metadata": {},
   "outputs": [],
   "source": [
    "cat('the mean of the posterior is:',mean)\n",
    "cat('\\n')\n",
    "cat('the standard deviation of the posterior is:',sigma)"
   ],
   "id": "ded1e017-668e-442c-886b-52c9c35fb0a4"
  },
  {
   "cell_type": "code",
   "execution_count": null,
   "metadata": {},
   "outputs": [],
   "source": [
    "median<-qbeta(0.5,y+a,n-y+b)\n",
    "lim_inf<-qbeta(0.025,y+a,n-y+b)\n",
    "lim_sup<-qbeta(0.975,y+a,n-y+b)\n",
    "ci<-c(lim_inf,lim_sup)\n",
    "\n",
    "cat('the mean is:',mean)\n",
    "cat('\\n')\n",
    "cat('the variance is:',sigma*sigma)\n",
    "cat('\\n')\n",
    "cat('the median is:',median)\n",
    "cat('\\n')\n",
    "cat('the 95% credibility interval is:[',ci[1],',',ci[2],']')\n",
    "cat('\\n')\n",
    "cat('\\n')"
   ],
   "id": "4bdc961d-fd53-45db-99ae-896364908136"
  },
  {
   "cell_type": "markdown",
   "metadata": {},
   "source": [
    "##point d\n",
    "\n",
    "Since the null hypothesis is H_0: p\\>=0.15 we need to perform an\n",
    "hypothesis test on the right tail of the posterior."
   ],
   "id": "0fdfc3cb-dc34-4753-a862-a0aaed2c21e9"
  },
  {
   "cell_type": "code",
   "execution_count": null,
   "metadata": {},
   "outputs": [],
   "source": [
    "p_h0<-pbeta(0.15,y+a,n-y+b)\n",
    "acceptance_lim<-qbeta(0.95,y+a,n-y+b)\n",
    "\n",
    "cat('the critical value of the rejection region is:',acceptance_lim)\n",
    "cat('the probability of 1-P(x>=0.15):',1-p_h0)\n",
    "\n",
    "plot(q,post,type='l',col='navy',xlab=\"p\", ylab=\"posterior\",xlim = c(0,0.25), cex.lab=1, cex.axis=1, cex.main=1.5, lwd=3)\n",
    "title(\"Bayesian Hypothesis test\", line = 1.3,lty=2)\n",
    "abline(v = acceptance_lim, col=\"darkorchid\", lwd=2, lty=1)\n",
    "abline(v = 0.15, col=\"darkgreen\", lwd=2, lty=2)\n",
    "abline(h = 0, col=\"black\", lwd=2, lty=1)\n",
    "\n",
    "text(acceptance_lim, 10, labels=expression(\"rejection value (P=95%)\"),srt=90, pos=3 ,cex=0.8, col=\"darkorchid\",  xpd=TRUE)\n",
    "text(0.15, 10, labels=expression(\"p=0.15\"),srt=90, pos=3, cex=0.8, col=\"darkgreen\",  xpd=TRUE)\n",
    "pol_x = seq(acceptance_lim,1,len=200)\n",
    "polygon(c(acceptance_lim,acceptance_lim,pol_x), \n",
    "        c(0,dbeta(acceptance_lim,y+a,n-y+b),dbeta(pol_x,y+a,n-y+b)),\n",
    "        col=adjustcolor(\"red\",alpha.f=0.2))\n",
    "legend('topright', legend=c(\"rejection region\"),fill = c(\"red\"), cex=1)"
   ],
   "id": "537bf27c-ac70-49f9-867c-af1c4b147284"
  },
  {
   "cell_type": "markdown",
   "metadata": {},
   "source": [
    "The value p=0.15 is in the rejection region. Thus the H_0 hypothesis is\n",
    "rejected for the Bayesian test.\n",
    "\n",
    "##point e\n",
    "\n",
    "Lets now plot the distribution of the data. Since the null hypothesis is\n",
    "H_0: p\\>=0.15 we need to perform an hypothesis test on the left tail of\n",
    "the distribution."
   ],
   "id": "95fe6a12-805a-40fb-87d7-0dce77abb304"
  },
  {
   "cell_type": "code",
   "execution_count": null,
   "metadata": {},
   "outputs": [],
   "source": [
    "y<-seq(from=0,to=75,1)\n",
    "p=0.15\n",
    "dis<-dbinom(y,size=n,prob=p)\n",
    "plot(y,dis,xlab=\"number of failures\", ylab=\"pdf\",main= 'Failure distribution(binomial(n=75,p=0.15))',type=\"h\", col='red',lwd=13,xlim=c(0,35))\n",
    "axis(side = 1, seq(0,75,5))\n",
    "axis(side = 2, seq(0,0.12,0.02))"
   ],
   "id": "b176ffa2-58b2-41f7-a18a-9f2631001cf9"
  },
  {
   "cell_type": "code",
   "execution_count": null,
   "metadata": {},
   "outputs": [],
   "source": [
    "acceptance_lim<-qbinom(0.05,size=n,prob=p)\n",
    "p_5<-pbinom(5,,size=n,prob=p)\n",
    "cat('the cdf for y=5 is:',p_5)\n",
    "cat('\\n')\n",
    "p_6<-pbinom(6,,size=n,prob=p)\n",
    "cat('the cdf for y=6 is:',p_6)\n",
    "cat('\\n')\n",
    "cat('since  it has the cloasest value to the 5%, y=6 is chosen as the rejection limit')"
   ],
   "id": "a281133f-7339-4fd6-a1e1-ef9d50493434"
  },
  {
   "cell_type": "markdown",
   "metadata": {},
   "source": [
    "The results are plotted"
   ],
   "id": "306d2b8e-d0f0-4ade-ac56-cde3dc99678c"
  },
  {
   "cell_type": "code",
   "execution_count": null,
   "metadata": {},
   "outputs": [],
   "source": [
    "y<-seq(from=0,to=75,1)\n",
    "p=0.15\n",
    "dis<-dbinom(y,size=n,prob=p)\n",
    "plot(y,dis,xlab=\"number of failures\", ylab=\"pdf\",main= 'Frequentist hypothesis test',type=\"h\", col = ifelse(y < 7,'darkgreen','darkred'),lwd=13,xlim=c(0,35))\n",
    "abline(v=6,col='blue',lty=2)\n",
    "axis(side = 1, seq(0,75,5))\n",
    "axis(side = 2, seq(0,0.12,0.02))\n",
    "text(6, 0.08, labels=expression(\"y = 6\"),srt=90, pos=3, cex=0.8, col=\"blue\",  xpd=TRUE)\n",
    "legend('topright', legend=c(\"rejection region\"),fill = c(\"darkgreen\"), cex=1)"
   ],
   "id": "03d3dafd-fefa-4b10-9f8b-ac11b20e7771"
  },
  {
   "cell_type": "markdown",
   "metadata": {},
   "source": [
    "Since y=6 is in the rejection region, the null hypothesis is rejected\n",
    "also for the frequentist hypothesis test.\n",
    "\n",
    "#Exercise2\n",
    "\n",
    "Here I define the observations and the sum of them. This are the samples\n",
    "that will be used for the analysis."
   ],
   "id": "f2acb11b-e9b8-4cea-94c9-fe5908a67919"
  },
  {
   "cell_type": "code",
   "execution_count": null,
   "metadata": {},
   "outputs": [],
   "source": [
    "obs_1<-c(0*109,1*65,2*22,3*3,4*1,5*0)\n",
    "obs_2<-c(0*144,1*91,2*32,3*11,4*2,5*0)\n",
    "obs_tot<-obs_1+obs_2"
   ],
   "id": "7ecb1f92-289b-41fd-b019-b2f626e88233"
  },
  {
   "cell_type": "markdown",
   "metadata": {},
   "source": [
    "The distribution of the results is a Poisson distribution. Thus assuming\n",
    "a Poisson distribution as likelihood and considering the two possible\n",
    "priors the posterior will be a gamma distribution. The parameters of the\n",
    "gamma distribution depend on the prior\n",
    "\n",
    "##point a\n",
    "\n",
    "The prior considered is a uniform distribution. For this fact the\n",
    "parameter of the posteriors are:\n",
    "\n",
    "-   α = Sum(y_observed) + 1\n",
    "-   λ = number of observations n\n",
    "\n",
    "Here the results for both observations ar plotted and than shown"
   ],
   "id": "fa05126b-3365-4747-b46f-dbd1442dc7f1"
  },
  {
   "cell_type": "code",
   "execution_count": null,
   "metadata": {},
   "outputs": [],
   "source": [
    "a_1<-sum(obs_1)+1\n",
    "lam_1<-109+65+22+3+1+0\n",
    "\n",
    "a_2<-sum(obs_2)+1\n",
    "lam_2<-144+91+32+11+2+0\n",
    "\n",
    "delta_mu<-0.001\n",
    "mu<-seq(from=0,to=1.5,by=delta_mu)\n",
    "\n",
    "post_1<-dgamma(mu,a_1,lam_1)\n",
    "post_2<-dgamma(mu,a_2,lam_2)\n",
    "\n",
    "mean_1<-a_1/lam_1\n",
    "mean_2<-a_2/lam_2\n",
    "var_1<-a_1/(lam_1*lam_1)\n",
    "var_2<-a_2/(lam_2*lam_2)\n",
    "median_1<-qgamma(0.5,a_1,lam_1)\n",
    "median_2<-qgamma(0.5,a_2,lam_2)\n",
    "\n",
    "lim_inf_1<-qgamma(0.025,a_1,lam_1)\n",
    "lim_sup_1<-qgamma(0.975,a_1,lam_1)\n",
    "ci1<-c(lim_inf_1,lim_sup_1)\n",
    "lim_inf_2<-qgamma(0.025,a_2,lam_2)\n",
    "lim_sup_2<-qgamma(0.975,a_2,lam_2)\n",
    "ci2<-c(lim_inf_2,lim_sup_2)\n",
    "\n",
    "\n",
    "plot(mu,post_1,type='l', lwd=2,col='red',xlab = 'µ', ylab = 'posterior', main='Posteriors of the two observations(uniform prior)', cex.main=2, cex.lab=1.5, cex.axis=1.5,ylim=c(0,8),xlim=c(0.4,0.9))\n",
    "lines(mu,post_2,type='l', lwd=2,col='blue')\n",
    "abline(v = mean_1 + sqrt(var_1), col=\"darkred\", lwd=2, lty=2)\n",
    "abline(v = mean_1 - sqrt(var_1), col=\"darkred\", lwd=2, lty=2)\n",
    "abline(v = mean_2 + sqrt(var_2), col=\"darkblue\", lwd=2, lty=2)\n",
    "abline(v = mean_2 - sqrt(var_2), col=\"darkblue\", lwd=2, lty=2)\n",
    "abline(v=mean_1,col='darkred',lty=5)\n",
    "abline(v=mean_2,col='darkblue',lty=5)\n",
    "abline(v=ci1[1],col='darkred',lty=4)\n",
    "abline(v=ci1[2],col='darkred',lty=4)\n",
    "abline(v=ci2[1],col='darkblue',lty=4)\n",
    "abline(v=ci2[2],col='darkblue',lty=4)\n",
    "text(mean_1, 6.5, labels=expression(\"µ\"),srt=90, pos=3, cex=0.8, col=\"darkred\",  xpd=TRUE)\n",
    "text(mean_2, 6.5, labels=expression(\"µ\"),srt=90, pos=3, cex=0.8, col=\"darkblue\",  xpd=TRUE)\n",
    "text(mean_1 + sqrt(var_1), 7, labels=expression(\"+sigma\"),srt=270, pos=3, cex=1, col=\"darkred\",  xpd=TRUE)\n",
    "text(mean_1 - sqrt(var_1), 7, labels=expression(\"-sigma\"),srt=90, pos=3, cex=1, col=\"darkred\",  xpd=TRUE)\n",
    "text(mean_2 - sqrt(var_2), 7, labels=expression(\"-sigma\"),srt=90, pos=3, cex=1, col=\"darkblue\",  xpd=TRUE)\n",
    "text(mean_2 + sqrt(var_2), 7, labels=expression(\"+sigma\"),srt=270, pos=3, cex=1, col=\"darkblue\", xpd=TRUE)\n",
    "text(ci1[1], 7.5, labels=expression(\"p=2.5%\"),srt=270, pos=3, cex=1, col=\"darkred\",  xpd=TRUE)\n",
    "text(ci1[2], 7.5, labels=expression(\"p=97.5%\"),srt=90, pos=3, cex=1, col=\"darkred\",  xpd=TRUE)\n",
    "text(ci2[1], 7.5, labels=expression(\"p=2.5%\"),srt=90, pos=3, cex=1, col=\"darkblue\",  xpd=TRUE)\n",
    "text(ci2[2], 7.5, labels=expression(\"p=97.5%\"),srt=270, pos=3, cex=1, col=\"darkblue\", xpd=TRUE)\n",
    "pol_x = seq(ci1[1],ci1[2],len=200)\n",
    "polygon(c(ci1[1],pol_x,ci1[2]), \n",
    "        c(0,dgamma(pol_x,a_1,lam_1),0),\n",
    "        col=adjustcolor(\"red\",alpha.f=0.2))\n",
    "pol_x = seq(ci2[1],ci2[2],len=200)\n",
    "polygon(c(ci2[1],pol_x,ci2[2]), \n",
    "        c(0,dgamma(pol_x,a_2,lam_2),0),\n",
    "        col=adjustcolor(\"blue\",alpha.f=0.2))\n",
    "legend('topleft', legend=c(\"observation 1\", \"observation 2\"),col=c(\"darkred\", \"darkblue\"), lty=1, cex=1)"
   ],
   "id": "6b5c7fdf-1f37-46bd-9475-d4de373752b3"
  },
  {
   "cell_type": "code",
   "execution_count": null,
   "metadata": {},
   "outputs": [],
   "source": [
    "cat('OBSERVATION 1 RESULTS (uniform prior)')\n",
    "cat('\\n')\n",
    "cat('the mean is:',mean_1)\n",
    "cat('\\n')\n",
    "cat('the variance is:',var_1)\n",
    "cat('\\n')\n",
    "cat('the median is:',median_1)\n",
    "cat('\\n')\n",
    "cat('the 95% credibility interval is:[',ci1[1],',',ci1[2],']')\n",
    "cat('\\n')\n",
    "cat('\\n')\n",
    "cat('OBSERVATION 2 RESULTS (uniform prior)')\n",
    "cat('\\n')\n",
    "cat('the mean is:',mean_2)\n",
    "cat('\\n')\n",
    "cat('the variance is:',var_2)\n",
    "cat('\\n')\n",
    "cat('the median is:',median_2)\n",
    "cat('\\n')\n",
    "cat('the 95% credibility interval is:[',ci2[1],',',ci2[2],']')"
   ],
   "id": "e1106c05-25cc-48ca-bd2e-d89ab7b72bcc"
  },
  {
   "cell_type": "markdown",
   "metadata": {},
   "source": [
    "Here the results obtained by summing the two observations are presented."
   ],
   "id": "9aa6c338-0efc-4089-871a-67be58211599"
  },
  {
   "cell_type": "code",
   "execution_count": null,
   "metadata": {},
   "outputs": [],
   "source": [
    "a_tot<-sum(obs_tot)+1\n",
    "lam_tot<-lam_1+lam_2\n",
    "\n",
    "mu<-seq(from=0.3,to=1,by=0.001)\n",
    "\n",
    "post_tot<-dgamma(mu,a_tot,lam_tot)\n",
    "\n",
    "mean_tot<-a_tot/lam_tot\n",
    "var_tot<-a_tot/(lam_tot*lam_tot)\n",
    "median_tot<-qgamma(0.5,a_tot,lam_tot)\n",
    "\n",
    "lim_inf_tot<-qgamma(0.025,a_tot,lam_tot)\n",
    "lim_sup_tot<-qgamma(0.975,a_tot,lam_tot)\n",
    "citot<-c(lim_inf_tot,lim_sup_tot)\n",
    "\n",
    "\n",
    "plot(mu,post_tot,type='l',col='darkgreen',xlab = 'µ', ylab = 'posterior', main='Posteriors of the sum of two observations(uniform prior)', cex.main=2, cex.lab=1.5, cex.axis=1.5)\n",
    "abline(v = citot[1], col=\"darkgreen\", lwd=2, lty=2)\n",
    "abline(v = citot[2], col=\"darkgreen\", lwd=2, lty=2)\n",
    "abline(v=mean_tot,col='darkgreen',lty=5)\n",
    "abline(v = mean_tot + sqrt(var_tot), col=\"darkgreen\", lwd=2, lty=2)\n",
    "abline(v = mean_tot - sqrt(var_tot), col=\"darkgreen\", lwd=2, lty=2)\n",
    "text(mean_tot, 4, labels=expression(\"µ\"),srt=90, pos=3, cex=0.8, col=\"darkgreen\",  xpd=TRUE)\n",
    "text(mean_tot + sqrt(var_tot), 4, labels=expression(\"+sigma\"),srt=270, pos=3, cex=1, col=\"darkgreen\",  xpd=TRUE)\n",
    "text(mean_tot - sqrt(var_tot), 4, labels=expression(\"-sigma\"),srt=90, pos=3, cex=1, col=\"darkgreen\",  xpd=TRUE)\n",
    "text(citot[1], 4, labels=expression(\"p=2.5%\"),srt=90, pos=3, cex=1, col=\"darkgreen\",  xpd=TRUE)\n",
    "text(citot[2], 4, labels=expression(\"p=97.5%\"),srt=270, pos=3, cex=1, col=\"darkgreen\", xpd=TRUE)\n",
    "pol_x = seq(citot[1],citot[2],len=200)\n",
    "polygon(c(citot[1],pol_x,citot[2]), c(0,dgamma(pol_x,a_tot,lam_tot),0),col=adjustcolor(\"green\",alpha.f=0.2))"
   ],
   "id": "ac03329b-d0b1-48b9-a407-295bc7266dea"
  },
  {
   "cell_type": "code",
   "execution_count": null,
   "metadata": {},
   "outputs": [],
   "source": [
    "cat('OBSERVATION TOT RESULTS (uniform prior)')\n",
    "cat('\\n')\n",
    "cat('the mean is:',mean_tot)\n",
    "cat('\\n')\n",
    "cat('the variance is:',var_tot)\n",
    "cat('\\n')\n",
    "cat('the median is:',median_tot)\n",
    "cat('\\n')\n",
    "cat('the 95% credibility interval is:[',citot[1],',',citot[2],']')\n",
    "cat('\\n')\n",
    "cat('\\n')"
   ],
   "id": "40651140-6bd9-43b0-a893-4a9790edcb96"
  },
  {
   "cell_type": "markdown",
   "metadata": {},
   "source": [
    "##point b\n",
    "\n",
    "The prior considered is a jeffrey prior. For this fact the parameter of\n",
    "the posteriors are:\n",
    "\n",
    "-   α = Sum(y_observed) + 1/2\n",
    "-   λ = number of observations n (as before)\n",
    "\n",
    "Here the results for both observations ar plotted and than shown"
   ],
   "id": "84d623da-f946-4cd7-9d3f-4f1629329617"
  },
  {
   "cell_type": "code",
   "execution_count": null,
   "metadata": {},
   "outputs": [],
   "source": [
    "a_1<-sum(obs_1)+1/2\n",
    "lam_1<-109+65+22+3+1+0\n",
    "\n",
    "a_2<-sum(obs_2)+1/2\n",
    "lam_2<-144+91+32+11+2+0\n",
    "\n",
    "a_tot<-sum(obs_tot)+1/2\n",
    "lam_tot<-length(obs_tot)\n",
    "\n",
    "mu<-seq(from=0,to=1,by=0.001)\n",
    "\n",
    "post_1<-dgamma(mu,a_1,lam_1)\n",
    "post_2<-dgamma(mu,a_2,lam_2)\n",
    "post_tot<-dgamma(mu,a_tot,lam_tot)\n",
    "\n",
    "mean_1<-a_1/lam_1\n",
    "mean_2<-a_2/lam_2\n",
    "var_1<-a_1/(lam_1*lam_1)\n",
    "var_2<-a_2/(lam_2*lam_2)\n",
    "median_1<-qgamma(0.5,a_1,lam_1)\n",
    "median_2<-qgamma(0.5,a_2,lam_2)\n",
    "\n",
    "lim_inf_1<-qgamma(0.025,a_1,lam_1)\n",
    "lim_sup_1<-qgamma(0.975,a_1,lam_1)\n",
    "ci1<-c(lim_inf_1,lim_sup_1)\n",
    "lim_inf_2<-qgamma(0.025,a_2,lam_2)\n",
    "lim_sup_2<-qgamma(0.975,a_2,lam_2)\n",
    "ci2<-c(lim_inf_2,lim_sup_2)\n",
    "\n",
    "\n",
    "plot(mu,post_1,type='l', lwd=2,col='red',xlab = 'µ', ylab = 'posterior', main='Posteriors of the two observations(jeffrey prior)', cex.main=2, cex.lab=1.5, cex.axis=1.5,ylim=c(0,9),xlim=c(0.4,0.9))\n",
    "lines(mu,post_2,type='l', lwd=2,col='blue')\n",
    "abline(v = mean_1 + sqrt(var_1), col=\"darkred\", lwd=2, lty=2)\n",
    "abline(v = mean_1 - sqrt(var_1), col=\"darkred\", lwd=2, lty=2)\n",
    "abline(v = mean_2 + sqrt(var_2), col=\"darkblue\", lwd=2, lty=2)\n",
    "abline(v = mean_2 - sqrt(var_2), col=\"darkblue\", lwd=2, lty=2)\n",
    "abline(v=mean_1,col='darkred',lty=5)\n",
    "abline(v=mean_2,col='darkblue',lty=5)\n",
    "abline(v=ci1[1],col='darkred',lty=4)\n",
    "abline(v=ci1[2],col='darkred',lty=4)\n",
    "abline(v=ci2[1],col='darkblue',lty=4)\n",
    "abline(v=ci2[2],col='darkblue',lty=4)\n",
    "text(mean_1, 6.5, labels=expression(\"µ\"),srt=90, pos=3, cex=0.8, col=\"darkred\",  xpd=TRUE)\n",
    "text(mean_2, 6.5, labels=expression(\"µ\"),srt=90, pos=3, cex=0.8, col=\"darkblue\",  xpd=TRUE)\n",
    "text(mean_1 + sqrt(var_1), 7, labels=expression(\"+sigma\"),srt=270, pos=3, cex=1, col=\"darkred\",  xpd=TRUE)\n",
    "text(mean_1 - sqrt(var_1), 7, labels=expression(\"-sigma\"),srt=90, pos=3, cex=1, col=\"darkred\",  xpd=TRUE)\n",
    "text(mean_2 - sqrt(var_2), 7, labels=expression(\"-sigma\"),srt=90, pos=3, cex=1, col=\"darkblue\",  xpd=TRUE)\n",
    "text(mean_2 + sqrt(var_2), 7, labels=expression(\"+sigma\"),srt=270, pos=3, cex=1, col=\"darkblue\", xpd=TRUE)\n",
    "text(ci1[1], 7.55, labels=expression(\"p=2.5%\"),srt=270, pos=3, cex=1, col=\"darkred\",  xpd=TRUE)\n",
    "text(ci1[2], 7.55, labels=expression(\"p=97.5%\"),srt=90, pos=3, cex=1, col=\"darkred\",  xpd=TRUE)\n",
    "text(ci2[1], 7.55, labels=expression(\"p=2.5%\"),srt=90, pos=3, cex=1, col=\"darkblue\",  xpd=TRUE)\n",
    "text(ci2[2], 7.55, labels=expression(\"p=97.5%\"),srt=270, pos=3, cex=1, col=\"darkblue\", xpd=TRUE)\n",
    "pol_x = seq(ci1[1],ci1[2],len=200)\n",
    "polygon(c(ci1[1],pol_x,ci1[2]), \n",
    "        c(0,dgamma(pol_x,a_1,lam_1),0),\n",
    "        col=adjustcolor(\"red\",alpha.f=0.2))\n",
    "pol_x = seq(ci2[1],ci2[2],len=200)\n",
    "polygon(c(ci2[1],pol_x,ci2[2]), \n",
    "        c(0,dgamma(pol_x,a_2,lam_2),0),\n",
    "        col=adjustcolor(\"blue\",alpha.f=0.2))\n",
    "legend('topleft', legend=c(\"observation 1\", \"observation 2\"),col=c(\"darkred\", \"darkblue\"), lty=1, cex=1)"
   ],
   "id": "6fdef1c3-02f7-4fa9-8e09-98806489db8c"
  },
  {
   "cell_type": "code",
   "execution_count": null,
   "metadata": {},
   "outputs": [],
   "source": [
    "cat('OBSERVATION 1 RESULTS (jeffrey prior)')\n",
    "cat('\\n')\n",
    "cat('the mean is:',mean_1)\n",
    "cat('\\n')\n",
    "cat('the variance is:',var_1)\n",
    "cat('\\n')\n",
    "cat('the median is:',median_1)\n",
    "cat('\\n')\n",
    "cat('the 95% credibility interval is:[',ci1[1],',',ci1[2],']')\n",
    "cat('\\n')\n",
    "cat('\\n')\n",
    "cat('OBSERVATION 2 RESULTS (jeffrey prior)')\n",
    "cat('\\n')\n",
    "cat('the mean is:',mean_2)\n",
    "cat('\\n')\n",
    "cat('the variance is:',var_2)\n",
    "cat('\\n')\n",
    "cat('the median is:',median_2)\n",
    "cat('\\n')\n",
    "cat('the 95% credibility interval is:[',ci2[1],',',ci2[2],']')"
   ],
   "id": "ea9e2e7c-0bc9-4960-88b2-ae856a08a0d9"
  },
  {
   "cell_type": "code",
   "execution_count": null,
   "metadata": {},
   "outputs": [],
   "source": [
    "a_tot<-sum(obs_tot)+1/2\n",
    "lam_tot<-lam_1+lam_2\n",
    "\n",
    "mu<-seq(from=0,to=1,by=0.001)\n",
    "\n",
    "post_tot<-dgamma(mu,a_tot,lam_tot)\n",
    "\n",
    "mean_tot<-a_tot/lam_tot\n",
    "var_tot<-a_tot/(lam_tot*lam_tot)\n",
    "median_tot<-qgamma(0.5,a_tot,lam_tot)\n",
    "\n",
    "lim_inf_tot<-qgamma(0.025,a_tot,lam_tot)\n",
    "lim_sup_tot<-qgamma(0.975,a_tot,lam_tot)\n",
    "citot<-c(lim_inf_tot,lim_sup_tot)\n",
    "\n",
    "\n",
    "plot(mu,post_tot,type='l',col='darkgreen',xlab = 'µ', ylab = 'posterior', main='Posteriors of the sum of two observations(jeffrey prior)', cex.main=2, cex.lab=1.5, cex.axis=1.5,xlim=c(0.5,0.9),ylim=c(0,12))\n",
    "abline(v = citot[1], col=\"darkgreen\", lwd=2, lty=2)\n",
    "abline(v = citot[2], col=\"darkgreen\", lwd=2, lty=2)\n",
    "abline(v=mean_tot,col='darkgreen',lty=5)\n",
    "abline(v = mean_tot + sqrt(var_tot), col=\"darkgreen\", lwd=2, lty=2)\n",
    "abline(v = mean_tot - sqrt(var_tot), col=\"darkgreen\", lwd=2, lty=2)\n",
    "text(mean_tot, 4, labels=expression(\"µ\"),srt=90, pos=3, cex=0.8, col=\"darkgreen\",  xpd=TRUE)\n",
    "text(mean_tot + sqrt(var_tot), 4, labels=expression(\"+sigma\"),srt=270, pos=3, cex=1, col=\"darkgreen\",  xpd=TRUE)\n",
    "text(mean_tot - sqrt(var_tot), 4, labels=expression(\"-sigma\"),srt=90, pos=3, cex=1, col=\"darkgreen\",  xpd=TRUE)\n",
    "text(citot[1], 4, labels=expression(\"p=2.5%\"),srt=90, pos=3, cex=1, col=\"darkgreen\",  xpd=TRUE)\n",
    "text(citot[2], 4, labels=expression(\"p=97.5%\"),srt=270, pos=3, cex=1, col=\"darkgreen\", xpd=TRUE)\n",
    "pol_x = seq(citot[1],citot[2],len=200)\n",
    "polygon(c(citot[1],pol_x,citot[2]), c(0,dgamma(pol_x,a_tot,lam_tot),0),col=adjustcolor(\"green\",alpha.f=0.2))"
   ],
   "id": "6c6e9957-4029-44b0-b316-2e42bd7a45d9"
  },
  {
   "cell_type": "code",
   "execution_count": null,
   "metadata": {},
   "outputs": [],
   "source": [
    "cat('OBSERVATION TOT RESULTS (jeffrey prior)')\n",
    "cat('\\n')\n",
    "cat('the mean is:',mean_tot)\n",
    "cat('\\n')\n",
    "cat('the variance is:',var_tot)\n",
    "cat('\\n')\n",
    "cat('the median is:',median_tot)\n",
    "cat('\\n')\n",
    "cat('the 95% credibility interval is:[',citot[1],',',citot[2],']')\n",
    "cat('\\n')\n",
    "cat('\\n')"
   ],
   "id": "988483c1-94c4-4fd4-98e6-f3b9a48a580c"
  },
  {
   "cell_type": "markdown",
   "metadata": {},
   "source": [
    "#Exercise3\n",
    "\n",
    "##point a\n",
    "\n",
    "Here I find the frequentist estimator, basing on the fact that the\n",
    "distribution of the observation is binomial because there are just two\n",
    "possible outcomes."
   ],
   "id": "5b33c4d9-5aa1-4ce6-8a8f-eb8ff8ee8ac8"
  },
  {
   "cell_type": "code",
   "execution_count": null,
   "metadata": {},
   "outputs": [],
   "source": [
    "n<-116\n",
    "y<-11\n",
    "p_freq<-11/116\n",
    "\n",
    "cat('the frequentist estimator is:',p_freq)"
   ],
   "id": "59b3ffac-6b4c-4e37-a87d-1550a0553aa6"
  },
  {
   "cell_type": "markdown",
   "metadata": {},
   "source": [
    "##point b and c\n",
    "\n",
    "Here I consider as likelihood a binomial distribution. Combining this\n",
    "with a beta prior I will obtain a Beta distribution as posterior. The\n",
    "parameters of the posterior are calculated as usual.\n",
    "\n",
    "Here the results are plotted and then shown."
   ],
   "id": "e17417aa-5de0-4b9f-8944-3cda8f6db0d0"
  },
  {
   "cell_type": "code",
   "execution_count": null,
   "metadata": {},
   "outputs": [],
   "source": [
    "step <- 0.001\n",
    "q<-seq(from=0,to=1,by=step)\n",
    "\n",
    "a<-1\n",
    "b<-10\n",
    "\n",
    "posterior_unnorm<-dbeta(q,y+a,n-y+b)\n",
    "\n",
    "Z<-sum(posterior_unnorm)*step\n",
    "\n",
    "post<-posterior_unnorm/Z\n",
    "\n",
    "\n",
    "mean<-(y+a)/(y+a+n-y+b)\n",
    "median<-qbeta(0.5,y+a,n-y+b)\n",
    "a_post<-(y+a)\n",
    "b_post<-n-y+b\n",
    "var<-((a_post*b_post)/(((a_post+b_post)^2)*(a_post+b_post+1)))\n",
    "\n",
    "ind_max<-which(post==max(post))\n",
    "p_bayes<-q[ind_max]\n",
    "\n",
    "lim_inf<-qbeta(0.025,y+a,n-y+b)\n",
    "lim_sup<-qbeta(0.975,y+a,n-y+b)\n",
    "ci<-c(lim_inf,lim_sup)\n",
    "\n",
    "\n",
    "\n",
    "plot(q,post,type='l',col='darkorchid',xlab = 'p', ylab = 'posterior', main='Posterior(first observations,Beta(1,10)) ', cex.main=2, cex.lab=1.5, cex.axis=1.5, xlim=c(0,0.3))\n",
    "abline(v = ci[1], col=\"darkorchid\", lwd=2, lty=2)\n",
    "abline(v = ci[2], col=\"darkorchid\", lwd=2, lty=2)\n",
    "abline(v=mean,col='darkorchid',lty=5)\n",
    "abline(v=p_bayes,col='darkorchid',lty=5)\n",
    "abline(v=mean+sqrt(var),col='darkorchid',lty=3)\n",
    "abline(v=mean-sqrt(var),col='darkorchid',lty=3)\n",
    "text(mean, 12, labels=expression(\"µ\"),srt=90, pos=3, cex=1, col=\"darkorchid\",  xpd=TRUE)\n",
    "text(p_bayes, 12, labels=expression(\"max posterior\"),srt=90, pos=3, cex=1, col=\"darkorchid\",  xpd=TRUE)\n",
    "text(mean+sqrt(var), 12, labels=expression(\"+sigma\"),srt=270, pos=3, cex=1, col=\"darkorchid\",  xpd=TRUE)\n",
    "text(mean-sqrt(var), 12, labels=expression(\"-sigma\"),srt=90, pos=3, cex=1, col=\"darkorchid\",  xpd=TRUE)\n",
    "text(ci[1], 10, labels=expression(\"p=2.5%\"),srt=90, pos=3, cex=1, col=\"darkorchid\",  xpd=TRUE)\n",
    "text(ci[2], 10, labels=expression(\"p=97.5%\"),srt=270, pos=3, cex=1, col=\"darkorchid\", xpd=TRUE)\n",
    "pol_x = seq(ci[1],ci[2],len=200)\n",
    "polygon(c(ci[1],pol_x,ci[2]), c(0,dbeta(pol_x,y+a,n-y+b),0),col=adjustcolor(\"orchid\",alpha.f=0.2))"
   ],
   "id": "1bc1c1f4-f944-46b3-89cc-f9e79077dd0d"
  },
  {
   "cell_type": "code",
   "execution_count": null,
   "metadata": {},
   "outputs": [],
   "source": [
    "cat('FIRSTS OBSERVATIONS RESULTS (Beta(1,10) prior)')\n",
    "cat('\\n')\n",
    "cat('the mean is:',mean)\n",
    "cat('\\n')\n",
    "cat('the variance is:',var)\n",
    "cat('\\n')\n",
    "cat('the median is:',median)\n",
    "cat('\\n')\n",
    "cat('the 95% credibility interval is:[',ci[1],',',ci[2],']')\n",
    "cat('\\n')\n",
    "cat('the bayesian estimator is the mean so it is:',mean)\n",
    "cat('\\n')\n",
    "cat('the most probable value is:',p_bayes)"
   ],
   "id": "eae0727b-8ac5-4756-bb79-6de0d16395c0"
  },
  {
   "cell_type": "markdown",
   "metadata": {},
   "source": [
    "Since the null hypothesis is p=0.1, the hypothesis test is a two sided\n",
    "hypothesis test in both bayesian and frequentist hypothesis test.\n",
    "\n",
    "##point d\n",
    "\n",
    "Bayesian limits"
   ],
   "id": "477a6a8f-927f-423f-bd10-3abc54c92c41"
  },
  {
   "cell_type": "code",
   "execution_count": null,
   "metadata": {},
   "outputs": [],
   "source": [
    "acceptance_lim_sup<-qbeta(0.975,y+a,n-y+b)\n",
    "acceptance_lim_inf<-qbeta(0.025,y+a,n-y+b)\n",
    "\n",
    "cat('the left critical value is:',acceptance_lim_inf)\n",
    "cat('\\n')\n",
    "cat('the right critical value is:',acceptance_lim_sup)"
   ],
   "id": "9ec2b964-c1c0-4d71-a16c-bd51309ad63c"
  },
  {
   "cell_type": "code",
   "execution_count": null,
   "metadata": {},
   "outputs": [],
   "source": [
    "plot(q,post,type='l',col='darkorchid',xlab = 'p', ylab = 'posterior', main='Posterior(first observations,Beta(1,10)) ', cex.main=2, cex.lab=1.5, cex.axis=1.5, xlim=c(0,0.3))\n",
    "abline(v = ci[1], col=\"darkorchid\", lwd=2, lty=2)\n",
    "abline(v = ci[2], col=\"darkorchid\", lwd=2, lty=2)\n",
    "abline(v=0.1,col='darkorchid',lty=5)\n",
    "text(0.1, 12, labels=expression(\"p=0.1\"),srt=90, pos=3, cex=1, col=\"darkorchid\",  xpd=TRUE)\n",
    "text(ci[1], 10, labels=expression(\"p=2.5%\"),srt=90, pos=3, cex=1, col=\"darkorchid\",  xpd=TRUE)\n",
    "text(ci[2], 10, labels=expression(\"p=97.5%\"),srt=270, pos=3, cex=1, col=\"darkorchid\", xpd=TRUE)\n",
    "pol_x = seq(0,ci[1],len=200)\n",
    "polygon(c(0,pol_x,ci[1]), c(0,dbeta(pol_x,y+a,n-y+b),dbeta(0,y+a,n-y+b)),col=adjustcolor(\"red\",alpha.f=0.2))\n",
    "pol_x = seq(ci[2],1,len=200)\n",
    "polygon(c(ci[2],pol_x,1), c(0,dbeta(pol_x,y+a,n-y+b),dbeta(1,y+a,n-y+b)),col=adjustcolor(\"red\",alpha.f=0.2))\n",
    "legend('topright',c('rejection region'),fill=c('red'))"
   ],
   "id": "494240be-2b3e-47d3-8458-5f31eb1168da"
  },
  {
   "cell_type": "markdown",
   "metadata": {},
   "source": [
    "The value p=0.1 is outside the rejection regions. For the Bayesian\n",
    "hypothesis test the null hypothesis is not rejected.\n",
    "\n",
    "Frequentist limits.\n",
    "\n",
    "Here I plot the distribution of the data, trying to find the limits of\n",
    "the rejection region."
   ],
   "id": "026e6689-7a73-446d-886a-4150bf2765ff"
  },
  {
   "cell_type": "code",
   "execution_count": null,
   "metadata": {},
   "outputs": [],
   "source": [
    "y<-seq(from=0,to=116,1)\n",
    "p=0.1\n",
    "dis<-dbinom(y,size=n,prob=p)\n",
    "plot(y,dis,xlab=\"y\", ylab=\"pdf\",main= 'X level distribution(binomial(n=116,p=0.1))',type=\"h\", col='orchid',lwd=13,xlim=c(0,35))\n",
    "axis(side = 1, seq(0,116,5))\n",
    "axis(side = 2, seq(0,0.12,0.02))"
   ],
   "id": "329d18f4-0be1-40e2-9b3c-e1ce4dec79ac"
  },
  {
   "cell_type": "code",
   "execution_count": null,
   "metadata": {},
   "outputs": [],
   "source": [
    "p_18<-pbinom(18,size=n,prob=p)\n",
    "cat('the cdf for y=18 is:',p_18)\n",
    "cat('\\n')\n",
    "p_5<-pbinom(5,size=n,prob=p)\n",
    "cat('the cdf for y=6 is:',p_5)\n",
    "cat('\\n')\n",
    "cat('since it has the closest value to the 97.5%, y=18 is chosen as the rejection limit')\n",
    "cat('\\n')\n",
    "cat('since it has the closest value to the 2.5%, y=5 is chosen as the rejection limit')"
   ],
   "id": "38ba077d-2958-4c99-9b28-15baafbcbd27"
  },
  {
   "cell_type": "code",
   "execution_count": null,
   "metadata": {},
   "outputs": [],
   "source": [
    "y<-seq(from=0,to=116,1)\n",
    "p=0.1\n",
    "dis<-dbinom(y,size=n,prob=p)\n",
    "plot(y,dis,xlab=\"y\", ylab=\"pdf\",main= 'X level distribution(binomial(n=116,p=0.1))',type=\"h\", col = ifelse(y < 6 | y>17 ,'darkgreen','darkorchid'),lwd=13,xlim=c(0,35))\n",
    "axis(side = 1, seq(0,116,5))\n",
    "axis(side = 2, seq(0,0.12,0.02))\n",
    "\n",
    "abline(v=11,col='black',lty=5)\n",
    "text(11, 0.08, labels=expression(\"y = 11\"),srt=90, pos=3, cex=0.8, col=\"black\",  xpd=TRUE)\n",
    "legend('topright', legend=c(\"rejection region\"),fill = c(\"darkgreen\"), cex=1)"
   ],
   "id": "e08e0b82-ee72-466f-9a25-a3e2de3bf713"
  },
  {
   "cell_type": "markdown",
   "metadata": {},
   "source": [
    "Since the value y=11 is outside the rejection region, for the\n",
    "frequentist hypothesis test the null hypothesis is not rejected.\n",
    "\n",
    "##point e\n",
    "\n",
    "Now the new data are analyzed"
   ],
   "id": "96edbf07-f092-468c-93a0-632e3637183f"
  },
  {
   "cell_type": "code",
   "execution_count": null,
   "metadata": {},
   "outputs": [],
   "source": [
    "n_2<-165\n",
    "y_2<-9\n",
    "p_freq_2<-9/165\n",
    "cat('the frequentist estimator is:',p_freq_2)"
   ],
   "id": "86959d44-d846-425f-be27-1c95f90474a1"
  },
  {
   "cell_type": "markdown",
   "metadata": {},
   "source": [
    "##point f and g\n",
    "\n",
    "The strategy used to calculate the needed values is the same as before."
   ],
   "id": "044431be-6f8b-4d99-8b9b-18dd647e1e8d"
  },
  {
   "cell_type": "code",
   "execution_count": null,
   "metadata": {},
   "outputs": [],
   "source": [
    "step <- 0.001\n",
    "q<-seq(from=0,to=1,by=step)\n",
    "\n",
    "a<-1\n",
    "b<-10\n",
    "\n",
    "a_2<-y_2+a\n",
    "b_2<-n_2-y_2+b\n",
    "\n",
    "posterior_unnorm<-dbeta(q,a_2,b_2)\n",
    "\n",
    "Z<-sum(posterior_unnorm)*step\n",
    "\n",
    "post<-posterior_unnorm/Z\n",
    "\n",
    "ind_max<-which(post==max(post))\n",
    "p_bayes<-q[ind_max]\n",
    "\n",
    "mean<-(a_2)/(a_2+b_2)\n",
    "median<-qbeta(0.5,a_2,b_2)\n",
    "var<-((a_2*b_2)/(((a_2+b_2)^2)*(a_2+b_2+1)))\n",
    "\n",
    "ind_max<-which(post==max(post))\n",
    "p_bayes<-q[ind_max]\n",
    "\n",
    "lim_inf<-qbeta(0.025,a_2,b_2)\n",
    "lim_sup<-qbeta(0.975,a_2,b_2)\n",
    "ci<-c(lim_inf,lim_sup)\n",
    "\n",
    "plot(q,post,type='l',col='darkorange',xlab = 'µ', ylab = 'posterior', main='Posterior(second observations,Beta(1,10)) ', cex.main=2, cex.lab=1.5, cex.axis=1.5, xlim=c(0,0.25))\n",
    "abline(v = ci[1], col=\"darkorange\", lwd=2, lty=2)\n",
    "abline(v = ci[2], col=\"darkorange\", lwd=2, lty=2)\n",
    "abline(v=mean,col=\"darkorange\",lty=5)\n",
    "abline(v=p_bayes,col=\"darkorange\",lty=5)\n",
    "abline(v=mean+sqrt(var),col=\"darkorange\",lty=3)\n",
    "abline(v=mean-sqrt(var),col=\"darkorange\",lty=3)\n",
    "text(mean, 12, labels=expression(\"µ\"),srt=90, pos=3, cex=1, col=\"darkorange\",  xpd=TRUE)\n",
    "text(p_bayes, 12, labels=expression(\"max post\"),srt=90, pos=3, cex=1, col=\"darkorange\",  xpd=TRUE)\n",
    "text(mean+sqrt(var), 13, labels=expression(\"+sigma\"),srt=270, pos=3, cex=1, col=\"darkorange\",  xpd=TRUE)\n",
    "text(mean-sqrt(var), 13, labels=expression(\"-sigma\"),srt=90, pos=3, cex=1, col=\"darkorange\",  xpd=TRUE)\n",
    "text(ci[1], 10, labels=expression(\"p=2.5%\"),srt=90, pos=3, cex=1, col=\"darkorange\",  xpd=TRUE)\n",
    "text(ci[2], 10, labels=expression(\"p=97.5%\"),srt=270, pos=3, cex=1, col=\"darkorange\", xpd=TRUE)\n",
    "pol_x = seq(ci[1],ci[2],len=200)\n",
    "polygon(c(ci[1],pol_x,ci[2]), c(0,dbeta(pol_x,a_2,b_2),0),col=adjustcolor(\"orange\",alpha.f=0.2))"
   ],
   "id": "686e323a-9601-46dd-80d2-872f1bfebb70"
  },
  {
   "cell_type": "code",
   "execution_count": null,
   "metadata": {},
   "outputs": [],
   "source": [
    "cat('SECOND OBSERVATIONS RESULTS (Beta(1,10) prior)')\n",
    "cat('\\n')\n",
    "cat('the mean is:',mean)\n",
    "cat('\\n')\n",
    "cat('the variance is:',var)\n",
    "cat('\\n')\n",
    "cat('the median is:',median)\n",
    "cat('\\n')\n",
    "cat('the 95% credibility interval is:[',ci[1],',',ci[2],']')\n",
    "cat('\\n')\n",
    "ind_max<-which(post==max(post))\n",
    "p_bayes<-q[ind_max]\n",
    "cat('the bayesian estimator is the mean so it is:',mean)\n",
    "cat('\\n')\n",
    "cat('the most probable value is:',p_bayes)"
   ],
   "id": "9a4caddc-7c5d-4250-b9d2-85f077dfbce0"
  },
  {
   "cell_type": "markdown",
   "metadata": {},
   "source": [
    "##point h\n",
    "\n",
    "Bayesian limits"
   ],
   "id": "9850c8b2-87fd-45ad-98dd-5fa364dbec0b"
  },
  {
   "cell_type": "code",
   "execution_count": null,
   "metadata": {},
   "outputs": [],
   "source": [
    "acceptance_lim_sup<-qbeta(0.975,a_2,b_2)\n",
    "acceptance_lim_inf<-qbeta(0.025,a_2,b_2)\n",
    "\n",
    "cat('the left critical value is:',acceptance_lim_inf)\n",
    "cat('\\n')\n",
    "cat('the right critical value is:',acceptance_lim_sup)"
   ],
   "id": "4b498d6c-eef4-4454-966f-3fe04407fec0"
  },
  {
   "cell_type": "code",
   "execution_count": null,
   "metadata": {},
   "outputs": [],
   "source": [
    "plot(q,post,type='l',col='darkorange',xlab = 'p', ylab = 'posterior', main='Bayesian hypothesis test(second observations,Beta(1,10)) ', cex.main=2, cex.lab=1.5, cex.axis=1.5, xlim=c(0,0.25))\n",
    "abline(v = ci[1], col=\"darkorange\", lwd=2, lty=2)\n",
    "abline(v = ci[2], col=\"darkorange\", lwd=2, lty=2)\n",
    "abline(v=0.1,col='darkorange',lty=5)\n",
    "text(0.1, 12, labels=expression(\"p=0.1\"),srt=90, pos=3, cex=1, col=\"darkorange\",  xpd=TRUE)\n",
    "text(ci[1], 10, labels=expression(\"p=2.5%\"),srt=90, pos=3, cex=1, col=\"darkorange\",  xpd=TRUE)\n",
    "text(ci[2], 10, labels=expression(\"p=97.5%\"),srt=90, pos=3, cex=1, col=\"darkorange\", xpd=TRUE)\n",
    "pol_x = seq(0,ci[1],len=200)\n",
    "polygon(c(0,pol_x,ci[1]), c(0,dbeta(pol_x,a_2,b_2),dbeta(0,a_2,b_2)),col=adjustcolor(\"red\",alpha.f=0.2))\n",
    "pol_x = seq(ci[2],1,len=200)\n",
    "polygon(c(ci[2],pol_x,1), c(0,dbeta(pol_x,a_2,b_2),dbeta(1,a_2,b_2)),col=adjustcolor(\"red\",alpha.f=0.2))\n",
    "legend('topright',c('rejection region'),fill=c('red'))"
   ],
   "id": "3e005c2e-0617-4bfc-a863-8d51240b108b"
  },
  {
   "cell_type": "markdown",
   "metadata": {},
   "source": [
    "The value p=0.1 is inside the rejection regions. For the Bayesian\n",
    "hypothesis test the null hypothesis is rejected."
   ],
   "id": "94f7e2d2-2f5e-4e61-a69a-01f59c2b1ff3"
  },
  {
   "cell_type": "code",
   "execution_count": null,
   "metadata": {},
   "outputs": [],
   "source": [
    "y<-seq(from=0,to=165,1)\n",
    "p=0.1\n",
    "dis<-dbinom(y,size=n_2,prob=p)\n",
    "plot(y,dis,xlab=\"y\", ylab=\"pdf\",main= 'X level distribution(binomial(n=165,p=0.1))',type=\"h\", col='orange',lwd=13,xlim=c(0,35))\n",
    "axis(side = 1, seq(0,125,5))\n",
    "axis(side = 2, seq(0,0.12,0.02))"
   ],
   "id": "8bfc64f4-21b2-4b6d-9b38-bf86f13c2617"
  },
  {
   "cell_type": "code",
   "execution_count": null,
   "metadata": {},
   "outputs": [],
   "source": [
    "p_24<-pbinom(24,size=n_2,prob=0.1)\n",
    "cat('the cdf for y=24 is:',p_24)\n",
    "cat('\\n')\n",
    "p_9<-pbinom(9,size=n_2,prob=0.1)\n",
    "cat('the cdf for y=9 is:',p_9)\n",
    "cat('\\n')\n",
    "cat('since it has the closest value to the 97.5%, y=24 is chosen as the rejection limit')\n",
    "cat('\\n')\n",
    "cat('since it has the closest value to the 2.5%, y=9 is chosen as the rejection limit')"
   ],
   "id": "81a532fe-aec4-409f-ba00-9095896a26ef"
  },
  {
   "cell_type": "code",
   "execution_count": null,
   "metadata": {},
   "outputs": [],
   "source": [
    "y<-seq(from=0,to=165,1)\n",
    "p=0.1\n",
    "dis<-dbinom(y,size=165,prob=p)\n",
    "plot(y,dis,xlab=\"y\", ylab=\"pdf\",main= 'X level distribution(binomial(n=165,p=0.1))',type=\"h\", col = ifelse(y < 10 | y>23 ,'darkgreen','darkorange'),lwd=13,xlim=c(0,35))\n",
    "axis(side = 1, seq(0,125,5))\n",
    "axis(side = 2, seq(0,0.12,0.02))\n",
    "\n",
    "abline(v=9,col='black',lty=5)\n",
    "text(9, 0.08, labels=expression(\"y = 9\"),srt=90, pos=3, cex=0.8, col=\"black\",  xpd=TRUE)\n",
    "legend('topright', legend=c(\"rejection region\"),fill = c(\"darkgreen\"), cex=1)"
   ],
   "id": "f4200724-48b4-4ea5-884b-00dee9ed5aa8"
  },
  {
   "cell_type": "markdown",
   "metadata": {},
   "source": [
    "Since the value y=9 is inside the rejection region, for the frequentist\n",
    "hypothesis test the null hypothesis is rejected.\n",
    "\n",
    "##point f and g\n",
    "\n",
    "If I consider the previous posterior as the prior I obtain again a Beta\n",
    "distribution with two different parameters:\n",
    "\n",
    "-   α : y_2(data from second observation) + α_1 (this is the alpha of\n",
    "    the previous posterior: y_1 + α_0(alpha of the original prior) )\n",
    "-   β : n_2(number of sample of the second observation) - y_2 - β_1\n",
    "    (beta from previous posterior: n_1 - y_1 - β_0)"
   ],
   "id": "5edecb46-659f-4932-a566-b24fb24bfe0e"
  },
  {
   "cell_type": "code",
   "execution_count": null,
   "metadata": {},
   "outputs": [],
   "source": [
    "step <- 0.001\n",
    "q<-seq(from=0,to=1,by=step)\n",
    "\n",
    "a<-1\n",
    "b<-10\n",
    "\n",
    "y_2<-9\n",
    "y<-11\n",
    "n_2<-165\n",
    "n<-116\n",
    "\n",
    "a_2<-y_2+y+a\n",
    "b_2<-n_2+n-y_2-y+b\n",
    "\n",
    "\n",
    "posterior_unnorm<-dbeta(q,a_2,b_2)\n",
    "\n",
    "Z<-sum(posterior_unnorm)*step\n",
    "\n",
    "post<-posterior_unnorm/Z\n",
    "\n",
    "ind_max<-which(post==max(post))\n",
    "p_bayes<-q[ind_max]\n",
    "\n",
    "mean<-(a_2)/(a_2+b_2)\n",
    "median<-qbeta(0.5,a_2,b_2)\n",
    "var<-((a_2*b_2)/(((a_2+b_2)^2)*(a_2+b_2+1)))\n",
    "\n",
    "lim_inf<-qbeta(0.025,a_2,b_2)\n",
    "lim_sup<-qbeta(0.975,a_2,b_2)\n",
    "ci<-c(lim_inf,lim_sup)\n",
    "\n",
    "plot(q,post,type='l',col='darkblue',xlab = 'p', ylab = 'posterior', main='Posterior(second observations,prior=Beta(12,115)) ', cex.main=2, cex.lab=1.5, cex.axis=1.5, xlim=c(0,0.25))\n",
    "abline(v = ci[1], col=\"darkblue\", lwd=2, lty=2)\n",
    "abline(v = ci[2], col=\"darkblue\", lwd=2, lty=2)\n",
    "abline(v=mean,col=\"darkblue\",lty=5)\n",
    "abline(v=mean+sqrt(var),col=\"darkblue\",lty=3)\n",
    "abline(v=mean-sqrt(var),col=\"darkblue\",lty=3)\n",
    "abline(v=p_bayes,col=\"darkblue\",lty=5)\n",
    "text(mean, 12, labels=expression(\"µ\"),srt=270, pos=3, cex=1, col=\"darkblue\",  xpd=TRUE)\n",
    "text(p_bayes, 12, labels=expression(\"max post\"),srt=90, pos=3, cex=1, col=\"darkblue\",  xpd=TRUE)\n",
    "text(mean+sqrt(var), 17, labels=expression(\"+sigma\"),srt=270, pos=3, cex=1, col=\"darkblue\",  xpd=TRUE)\n",
    "text(mean-sqrt(var), 17, labels=expression(\"-sigma\"),srt=90, pos=3, cex=1, col=\"darkblue\",  xpd=TRUE)\n",
    "text(ci[1], 10, labels=expression(\"p=2.5%\"),srt=90, pos=3, cex=1, col=\"darkblue\",  xpd=TRUE)\n",
    "text(ci[2], 10, labels=expression(\"p=97.5%\"),srt=270, pos=3, cex=1, col=\"darkblue\", xpd=TRUE)\n",
    "pol_x = seq(ci[1],ci[2],len=200)\n",
    "polygon(c(ci[1],pol_x,ci[2]), c(0,dbeta(pol_x,a_2,b_2),0),col=adjustcolor(\"darkblue\",alpha.f=0.2))"
   ],
   "id": "86a19cd6-18bb-4877-8e26-04244ada6edc"
  },
  {
   "cell_type": "code",
   "execution_count": null,
   "metadata": {},
   "outputs": [],
   "source": [
    "cat('SECOND OBSERVATIONS RESULTS (Beta(12,115) prior)')\n",
    "cat('\\n')\n",
    "cat('the mean is:',mean)\n",
    "cat('\\n')\n",
    "cat('the variance is:',var)\n",
    "cat('\\n')\n",
    "cat('the median is:',median)\n",
    "cat('\\n')\n",
    "cat('the 95% credibility interval is:[',ci[1],',',ci[2],']')\n",
    "cat('\\n')\n",
    "ind_max<-which(post==max(post))\n",
    "p_bayes<-q[ind_max]\n",
    "cat('the bayesian estimator is the mean so it is:',mean)\n",
    "cat('\\n')\n",
    "cat('the most probable value is:',p_bayes)"
   ],
   "id": "0bd17f44-b0ea-47a5-a12b-4f0efd4f280b"
  },
  {
   "cell_type": "markdown",
   "metadata": {},
   "source": [
    "##point h\n",
    "\n",
    "Bayesian limits"
   ],
   "id": "75a22bbc-eafc-4173-a4fa-4752eef0b725"
  },
  {
   "cell_type": "code",
   "execution_count": null,
   "metadata": {},
   "outputs": [],
   "source": [
    "acceptance_lim_sup<-qbeta(0.975,a_2,b_2)\n",
    "acceptance_lim_inf<-qbeta(0.025,a_2,b_2)\n",
    "cat('the left critical value is:',acceptance_lim_inf)\n",
    "cat('\\n')\n",
    "cat('the right critical value is:',acceptance_lim_sup)"
   ],
   "id": "cf12c8b2-3eaf-48c0-9906-0d030a2b8461"
  },
  {
   "cell_type": "code",
   "execution_count": null,
   "metadata": {},
   "outputs": [],
   "source": [
    "plot(q,post,type='l',col='darkblue',xlab = 'p', ylab = 'posterior', main='Posterior(second observations,prior=Beta(12,115)) ', cex.main=2, cex.lab=1.5, cex.axis=1.5, xlim=c(0,0.25))\n",
    "abline(v = ci[1], col=\"darkblue\", lwd=2, lty=2)\n",
    "abline(v = ci[2], col=\"darkblue\", lwd=2, lty=2)\n",
    "abline(v = 0.1, col=\"darkblue\", lwd=2, lty=2)\n",
    "text(0.1, 10, labels=expression(\"p=0.1\"),srt=90, pos=3, cex=1, col=\"darkblue\",  xpd=TRUE)\n",
    "text(ci[1], 10, labels=expression(\"p=2.5%\"),srt=90, pos=3, cex=1, col=\"darkblue\",  xpd=TRUE)\n",
    "text(ci[2], 10, labels=expression(\"p=97.5%\"),srt=270, pos=3, cex=1, col=\"darkblue\", xpd=TRUE)\n",
    "pol_x = seq(0,ci[1],len=200)\n",
    "polygon(c(0,pol_x,ci[1]), c(0,dbeta(pol_x,a_2,b_2),dbeta(0,a_2,b_2)),col=adjustcolor(\"red\",alpha.f=0.2))\n",
    "pol_x = seq(ci[2],1,len=200)\n",
    "polygon(c(ci[2],pol_x,1), c(0,dbeta(pol_x,a_2,b_2),dbeta(1,a_2,b_2)),col=adjustcolor(\"red\",alpha.f=0.2))\n",
    "legend('topright',c('rejection region'),fill=c('red'))"
   ],
   "id": "849bf3b2-9110-406f-ace2-3867decd3426"
  },
  {
   "cell_type": "markdown",
   "metadata": {},
   "source": [
    "The value p=0.1 is outside the rejection regions. For the Bayesian\n",
    "hypothesis test the null hypothesis is not rejected.\n",
    "\n",
    "#Exercise 4"
   ],
   "id": "83014359-9c4c-4136-b72d-e52989df0931"
  },
  {
   "cell_type": "code",
   "execution_count": null,
   "metadata": {},
   "outputs": [],
   "source": [
    "library(coda)\n",
    "library(rjags)"
   ],
   "id": "bf86009b-3180-4c78-98f5-1e9a5832c09b"
  },
  {
   "cell_type": "markdown",
   "metadata": {},
   "source": [
    "I create the data in order to calculate the posterior. In order to do\n",
    "that I create a dataset of 75 values equal to 0. Then I randomly select\n",
    "6 indexes and I assign to that indexes a value equal to 1."
   ],
   "id": "f8a1ef9d-eb65-407d-8a81-44aa788e0d26"
  },
  {
   "cell_type": "code",
   "execution_count": null,
   "metadata": {},
   "outputs": [],
   "source": [
    "data <- NULL\n",
    "X<-rep(0,75)\n",
    "index<-sample(75,6)\n",
    "for (i in index) {\n",
    "  \n",
    "  X[i]=1\n",
    "}\n",
    "\n",
    "data$X <-X\n",
    "data$a <- 0.83\n",
    "data$b<-4.63\n",
    "data$n_next <- 100"
   ],
   "id": "2b1c7523-13b7-4d79-b0b0-e37f27dadb19"
  },
  {
   "cell_type": "code",
   "execution_count": null,
   "metadata": {},
   "outputs": [],
   "source": [
    "jagsModel <- jags.model(\"model4.bug\",data=data)\n",
    "update(jagsModel,1000)"
   ],
   "id": "8cb7cb90-3d05-4fdf-8331-b2ab1e000d87"
  },
  {
   "cell_type": "code",
   "execution_count": null,
   "metadata": {},
   "outputs": [],
   "source": [
    "chain <- coda.samples(jagsModel, c(\"p\",\"y\"), n.iter=20000) \n",
    "print(summary(chain))"
   ],
   "id": "6b8daee4-2227-491f-8567-59fd214b388b"
  },
  {
   "cell_type": "code",
   "execution_count": null,
   "metadata": {},
   "outputs": [],
   "source": [
    "plot(chain[,1], col=\"navy\")\n",
    "title('trace of p and density of p')"
   ],
   "id": "acfa6fc3-b223-4982-a5fb-6a6f2735ac5c"
  },
  {
   "cell_type": "code",
   "execution_count": null,
   "metadata": {},
   "outputs": [],
   "source": [
    "df<-as.data.frame(as.mcmc(chain))"
   ],
   "id": "ddd2498a-e15a-42c9-99b1-a41973645a1b"
  },
  {
   "cell_type": "code",
   "execution_count": null,
   "metadata": {},
   "outputs": [],
   "source": [
    "plot(df$y, col=\"navy\",type='l',ylab='')\n",
    "title('trace of predicted data y')"
   ],
   "id": "7097d8a8-670a-48b3-ad7a-57a97c7c6299"
  },
  {
   "cell_type": "code",
   "execution_count": null,
   "metadata": {},
   "outputs": [],
   "source": [
    "ty <- table(df$y)\n",
    "barplot(ty, col=\"navy\", main ='',xlab='y',ylab = 'frequency')\n",
    "title('histogram of predicted data y')"
   ],
   "id": "aa5c07ea-f447-42ba-bb41-b235d4583006"
  },
  {
   "cell_type": "code",
   "execution_count": null,
   "metadata": {},
   "outputs": [],
   "source": [
    "results<-(summary(chain))\n",
    "results"
   ],
   "id": "f302d1a8-5e8a-4717-9446-5ec2c97b3a13"
  },
  {
   "cell_type": "code",
   "execution_count": null,
   "metadata": {},
   "outputs": [],
   "source": [
    "cat('the mean of p is: ',results$statistics[1])\n",
    "cat('\\n')\n",
    "sd<-results$statistics[3]\n",
    "cat('the variance of p is: ', sd*sd)\n",
    "cat('\\n')\n",
    "cat('the median of p is: ', results$quantiles[5])\n",
    "cat('\\n')\n",
    "cat('the credibility interval of p is: [', results$quantiles[1],',',results$quantiles[9],']')"
   ],
   "id": "53ae5a5c-2786-42e6-83de-4f4828a89026"
  },
  {
   "cell_type": "markdown",
   "metadata": {},
   "source": [
    "The results and the values obtained from this method are very similar to\n",
    "the ones obtained with the theoretical methods"
   ],
   "id": "f36384c4-d68f-4e3c-8332-b42a8d7deea2"
  },
  {
   "cell_type": "code",
   "execution_count": null,
   "metadata": {},
   "outputs": [],
   "source": [
    "cat('the mean of the predicted data y is: ',results$statistics[2])\n",
    "cat('\\n')\n",
    "sd<-results$statistics[4]\n",
    "cat('the variance of the predicted data y is: ', sd*sd)\n",
    "cat('\\n')\n",
    "cat('the median of predicted data is: ', results$quantiles[6])\n",
    "cat('\\n')\n",
    "cat('the credibility interval of predicted data is: [', results$quantiles[2],',',results$quantiles[10],']')"
   ],
   "id": "1072202a-6fb7-4aea-8dd6-bfc6c06900a5"
  },
  {
   "cell_type": "markdown",
   "metadata": {},
   "source": [
    "#Exercise 5\n",
    "\n",
    "I create the data in order to calculate the posterior. In order to do\n",
    "that I create two datasets of the same length of the two original\n",
    "datasets with all the values equal to 0. Then I randomly select the\n",
    "needed number of indexes and I assign to that indexes a value equal to\n",
    "1,2,3,4 or 5.The number of times a specific value appears is given by\n",
    "the original datasets. For example in the first observations there are\n",
    "65 observations equal to 1. So in the reproduced artificial dataset the\n",
    "number 1 will appear 65 times.\n",
    "\n",
    "RESULTS OBTAINED WITH THE OBSERVATION_1"
   ],
   "id": "bb4a4a8d-7807-46af-8c27-a52bfcdfdaa4"
  },
  {
   "cell_type": "code",
   "execution_count": null,
   "metadata": {},
   "outputs": [],
   "source": [
    "data <- NULL\n",
    "obs_1<-rep(0,109+65+22+3+1+0)\n",
    "\n",
    "\n",
    "X <- obs_1\n",
    "\n",
    "i<-0\n",
    "while (i<65) {\n",
    "  ind_1<-sample(109+65+22+3+1,1)\n",
    "  \n",
    "  if( X[ind_1]==0 ){\n",
    "    \n",
    "    X[ind_1]=1\n",
    "    i<-i+1\n",
    "  }\n",
    "}\n",
    "\n",
    "i<-0\n",
    "while (i<22) {\n",
    "  ind_2<-sample(109+65+22+3+1,1)\n",
    "\n",
    "  if( X[ind_2]==0 ){\n",
    "    \n",
    "    X[ind_2]=2\n",
    "    i<-i+1\n",
    "  }\n",
    "    \n",
    "}\n",
    "\n",
    "i<-0\n",
    "while (i<3) {\n",
    "  ind_3<-sample(109+65+22+3+1,1)\n",
    "  if(X[ind_3]==0){\n",
    "    \n",
    "    X[ind_3]=3\n",
    "    i<-i+1\n",
    "  }\n",
    "    \n",
    "}\n",
    "\n",
    "i<-0\n",
    "while (i<1) {\n",
    "  ind_4<-sample(109+65+22+3+1,1)\n",
    "  if(X[ind_4]==0){\n",
    "    \n",
    "    X[ind_4]=4\n",
    "    i<-i+1\n",
    "  }\n",
    "    \n",
    "}\n",
    "\n",
    "\n",
    "\n",
    "data$X <-X\n",
    "data$n <- length(X)#109+65+22+3+1+0\n",
    "data$n_next <- 100\n",
    "data$quant <- seq(-1,6,by=1/100)"
   ],
   "id": "b2cfed90-fd8d-4371-a6eb-44d4ff6943fa"
  },
  {
   "cell_type": "markdown",
   "metadata": {},
   "source": [
    "##uniform prior (observation 1) Here the results obtained with the\n",
    "uniform prior are shown"
   ],
   "id": "505dd27d-591b-4057-99ed-6829d9952067"
  },
  {
   "cell_type": "code",
   "execution_count": null,
   "metadata": {},
   "outputs": [],
   "source": [
    "jagsModel <- jags.model(\"model5_1.bug\",data=data)\n",
    "update(jagsModel,1000)"
   ],
   "id": "50bb8d3f-5887-496e-abd6-fb40ac15b14d"
  },
  {
   "cell_type": "code",
   "execution_count": null,
   "metadata": {},
   "outputs": [],
   "source": [
    "chain <- coda.samples(jagsModel, c(\"mu\",'y'), n.iter=20000) \n",
    "print(summary(chain))"
   ],
   "id": "e7ca347f-4330-4090-8b6f-2485ff6ef62e"
  },
  {
   "cell_type": "code",
   "execution_count": null,
   "metadata": {},
   "outputs": [],
   "source": [
    "plot(chain[,1], col=\"darkgreen\")\n",
    "title('trace of mu and density of mu (uniform prior)')"
   ],
   "id": "0e842c43-4c82-4fe8-8e56-76b0e3a3d6d9"
  },
  {
   "cell_type": "code",
   "execution_count": null,
   "metadata": {},
   "outputs": [],
   "source": [
    "df<-as.data.frame(as.mcmc(chain))"
   ],
   "id": "daf766d6-41ce-4552-8d82-6f18bb26e2f3"
  },
  {
   "cell_type": "code",
   "execution_count": null,
   "metadata": {},
   "outputs": [],
   "source": [
    "plot(df$y, col=\"darkgreen\",type='l',ylab='')\n",
    "title('trace of predicted data y(uniform prior)')"
   ],
   "id": "43e64998-ac33-470e-9f8c-f3a140382d1a"
  },
  {
   "cell_type": "code",
   "execution_count": null,
   "metadata": {},
   "outputs": [],
   "source": [
    "ty <- table(df$y)\n",
    "barplot(ty, col=\"darkgreen\", main ='',xlab='y',ylab = 'frequency')\n",
    "title('histogram of predicted data y (uniform prior)')"
   ],
   "id": "88089fdc-e0af-4887-b619-f571cdfe0274"
  },
  {
   "cell_type": "code",
   "execution_count": null,
   "metadata": {},
   "outputs": [],
   "source": [
    "results<-(summary(chain))\n",
    "results"
   ],
   "id": "d14de5d0-3dde-4545-a2b7-0cb706d8156f"
  },
  {
   "cell_type": "code",
   "execution_count": null,
   "metadata": {},
   "outputs": [],
   "source": [
    "cat('the mean of mu is: ',results$statistics[1])\n",
    "cat('\\n')\n",
    "sd<-results$statistics[3]\n",
    "cat('the variance of mu is: ', sd*sd)\n",
    "cat('\\n')\n",
    "cat('the median of mu is: ', results$quantiles[5])\n",
    "cat('\\n')\n",
    "cat('the credibility interval of mu is: [', results$quantiles[1],',',results$quantiles[9],']')"
   ],
   "id": "3108aa21-e144-4ce5-920d-ffc08863b5e4"
  },
  {
   "cell_type": "markdown",
   "metadata": {},
   "source": [
    "The results and the values obtained from this method are very similar to\n",
    "the ones obtained with the theoretical methods"
   ],
   "id": "43931802-3950-4aea-bf4b-76709afdb0ac"
  },
  {
   "cell_type": "code",
   "execution_count": null,
   "metadata": {},
   "outputs": [],
   "source": [
    "cat('the mean of the predicted data y is: ',results$statistics[2])\n",
    "cat('\\n')\n",
    "sd<-results$statistics[4]\n",
    "cat('the variance of the predicted data y is: ', sd*sd)\n",
    "cat('\\n')\n",
    "cat('the median of predicted data is: ', results$quantiles[6])\n",
    "cat('\\n')\n",
    "cat('the credibility interval of predicted data is: [', results$quantiles[2],',',results$quantiles[10],']')"
   ],
   "id": "806e9010-9369-4af2-91ec-88eef463029e"
  },
  {
   "cell_type": "markdown",
   "metadata": {},
   "source": [
    "##jeffrey prior (observation 1) Here the results obtained with the\n",
    "jeffrey prior are shown"
   ],
   "id": "ba529f96-8ae8-412e-bcec-9894c51a3fa6"
  },
  {
   "cell_type": "code",
   "execution_count": null,
   "metadata": {},
   "outputs": [],
   "source": [
    "jagsModel <- jags.model(\"model5_2.bug\",data=data)\n",
    "update(jagsModel,1000)"
   ],
   "id": "086a5eb4-85e7-40be-82a5-37405a235fe5"
  },
  {
   "cell_type": "code",
   "execution_count": null,
   "metadata": {},
   "outputs": [],
   "source": [
    "chain <- coda.samples(jagsModel, c(\"mu\",'y'), n.iter=20000) \n",
    "print(summary(chain))"
   ],
   "id": "def958a4-e53b-4eb2-913c-f7f6a4972bd8"
  },
  {
   "cell_type": "code",
   "execution_count": null,
   "metadata": {},
   "outputs": [],
   "source": [
    "plot(chain[,1], col=\"darkred\")\n",
    "title('trace of mu and density of mu (jeffrey prior)')"
   ],
   "id": "00ba54d7-c0fa-4394-aafd-6338e50d05c0"
  },
  {
   "cell_type": "code",
   "execution_count": null,
   "metadata": {},
   "outputs": [],
   "source": [
    "df<-as.data.frame(as.mcmc(chain))"
   ],
   "id": "4e398a3f-1fbe-4b3e-9f83-a9e3d8210b86"
  },
  {
   "cell_type": "code",
   "execution_count": null,
   "metadata": {},
   "outputs": [],
   "source": [
    "plot(df$y, col=\"darkred\",type='l',ylab='')\n",
    "title('trace of predicted data y(jeffrey prior)')"
   ],
   "id": "4d32f193-c3b0-4f12-baa5-f94d9327aab1"
  },
  {
   "cell_type": "code",
   "execution_count": null,
   "metadata": {},
   "outputs": [],
   "source": [
    "ty <- table(df$y)\n",
    "barplot(ty, col=\"darkred\", main ='',xlab='y',ylab = 'frequency')\n",
    "title('histogram of predicted data y (jeffrey prior)')"
   ],
   "id": "2c2ca3b4-eb10-4af7-9a75-a3e1ff0a11b7"
  },
  {
   "cell_type": "code",
   "execution_count": null,
   "metadata": {},
   "outputs": [],
   "source": [
    "results<-(summary(chain))\n",
    "results"
   ],
   "id": "dce2c830-9019-42cd-abb9-943611fb4e1e"
  },
  {
   "cell_type": "code",
   "execution_count": null,
   "metadata": {},
   "outputs": [],
   "source": [
    "cat('the mean of mu is: ',results$statistics[1])\n",
    "cat('\\n')\n",
    "sd<-results$statistics[3]\n",
    "cat('the variance of mu is: ', sd*sd)\n",
    "cat('\\n')\n",
    "cat('the median of mu is: ', results$quantiles[5])\n",
    "cat('\\n')\n",
    "cat('the credibility interval of mu is: [', results$quantiles[1],',',results$quantiles[9],']')"
   ],
   "id": "20730414-ac60-4fd3-b4cf-101f42428008"
  },
  {
   "cell_type": "markdown",
   "metadata": {},
   "source": [
    "The results and the values obtained from this method are very similar to\n",
    "the ones obtained with the theoretical methods"
   ],
   "id": "d16f653b-1297-45cc-ba27-a0d4cbca25f6"
  },
  {
   "cell_type": "code",
   "execution_count": null,
   "metadata": {},
   "outputs": [],
   "source": [
    "cat('the mean of the predicted data y is: ',results$statistics[2])\n",
    "cat('\\n')\n",
    "sd<-results$statistics[4]\n",
    "cat('the variance of the predicted data y is: ', sd*sd)\n",
    "cat('\\n')\n",
    "cat('the median of predicted data is: ', results$quantiles[6])\n",
    "cat('\\n')\n",
    "cat('the credibility interval of predicted data is: [', results$quantiles[2],',',results$quantiles[10],']')"
   ],
   "id": "e2cefac8-4617-4ec6-902a-a5c1740af336"
  },
  {
   "cell_type": "markdown",
   "metadata": {},
   "source": [
    "RESULTS OBTAINED WITH THE OBSERVATION_2\n",
    "\n",
    "##uniform prior (observation 2)"
   ],
   "id": "70a499c2-5924-4fd0-98ab-c6fde2cefde2"
  },
  {
   "cell_type": "code",
   "execution_count": null,
   "metadata": {},
   "outputs": [],
   "source": [
    "data <- NULL\n",
    "obs_2<-rep(0,144+91+32+11+2)\n",
    "\n",
    "X <- obs_2\n",
    "\n",
    "i<-0\n",
    "while (i<91) {\n",
    "  ind_1<-sample(144+91+32+11+2,1)\n",
    "  \n",
    "  if( X[ind_1]==0 ){\n",
    "    \n",
    "    X[ind_1]=1\n",
    "    i<-i+1\n",
    "  }\n",
    "}\n",
    "\n",
    "i<-0\n",
    "while (i<32) {\n",
    "  ind_2<-sample(144+91+32+11+2,1)\n",
    "\n",
    "  if( X[ind_2]==0 ){\n",
    "    \n",
    "    X[ind_2]=2\n",
    "    i<-i+1\n",
    "  }\n",
    "    \n",
    "}\n",
    "\n",
    "i<-0\n",
    "while (i<11) {\n",
    "  ind_3<-sample(144+91+32+11+2,1)\n",
    "  if(X[ind_3]==0){\n",
    "    \n",
    "    X[ind_3]=3\n",
    "    i<-i+1\n",
    "  }\n",
    "    \n",
    "}\n",
    "\n",
    "i<-0\n",
    "while (i<2) {\n",
    "  ind_4<-sample(144+91+32+11+2,1)\n",
    "  if(X[ind_4]==0){\n",
    "    \n",
    "    X[ind_4]=4\n",
    "    i<-i+1\n",
    "  }\n",
    "    \n",
    "}\n",
    "\n",
    "\n",
    "\n",
    "data$X <-X\n",
    "data$n <- length(X)#144+91+32+11+2"
   ],
   "id": "b4bed36c-9e89-489c-9765-17e5f240ef4c"
  },
  {
   "cell_type": "markdown",
   "metadata": {},
   "source": [
    "Here the results obtained with the uniform prior are shown"
   ],
   "id": "ef117236-5b25-48f1-835b-2303bfad8843"
  },
  {
   "cell_type": "code",
   "execution_count": null,
   "metadata": {},
   "outputs": [],
   "source": [
    "jagsModel <- jags.model(\"model5_1.bug\",data=data)\n",
    "update(jagsModel,1000)"
   ],
   "id": "1db6c723-5954-49b0-ae15-d4f30964409d"
  },
  {
   "cell_type": "code",
   "execution_count": null,
   "metadata": {},
   "outputs": [],
   "source": [
    "chain <- coda.samples(jagsModel, c(\"mu\",\"y\"), n.iter=20000) \n",
    "print(summary(chain))"
   ],
   "id": "987d4ccb-9ed1-4b0c-8bfa-44d32cc01055"
  },
  {
   "cell_type": "code",
   "execution_count": null,
   "metadata": {},
   "outputs": [],
   "source": [
    "plot(chain[,1], col=\"darkgreen\")\n",
    "title('trace of mu and density of mu (uniform prior)')"
   ],
   "id": "5f361660-e2ea-4096-8cdf-5f0fc939559e"
  },
  {
   "cell_type": "code",
   "execution_count": null,
   "metadata": {},
   "outputs": [],
   "source": [
    "df<-as.data.frame(as.mcmc(chain))"
   ],
   "id": "5aab5ef8-2cbd-41e9-a010-a4e04a346e10"
  },
  {
   "cell_type": "code",
   "execution_count": null,
   "metadata": {},
   "outputs": [],
   "source": [
    "plot(df$y, col=\"darkgreen\",type='l',ylab='')\n",
    "title('trace of predicted data y(juniform prior)')"
   ],
   "id": "1ebf3ff0-dfd4-4884-94a9-98a4d4df5967"
  },
  {
   "cell_type": "code",
   "execution_count": null,
   "metadata": {},
   "outputs": [],
   "source": [
    "ty <- table(df$y)\n",
    "barplot(ty, col=\"darkgreen\", main ='',xlab='y',ylab = 'frequency')\n",
    "title('histogram of predicted data y (uniform prior)')"
   ],
   "id": "d40e5fda-4a24-47f2-8fb0-1f9e89fcaa99"
  },
  {
   "cell_type": "code",
   "execution_count": null,
   "metadata": {},
   "outputs": [],
   "source": [
    "results<-(summary(chain))\n",
    "results"
   ],
   "id": "0239bdd6-cea1-41a1-98db-32c7ab0c1267"
  },
  {
   "cell_type": "code",
   "execution_count": null,
   "metadata": {},
   "outputs": [],
   "source": [
    "cat('the mean of mu is: ',results$statistics[1])\n",
    "cat('\\n')\n",
    "sd<-results$statistics[3]\n",
    "cat('the variance of mu is: ', sd*sd)\n",
    "cat('\\n')\n",
    "cat('the median of mu is: ', results$quantiles[5])\n",
    "cat('\\n')\n",
    "cat('the credibility interval of mu is: [', results$quantiles[1],',',results$quantiles[9],']')"
   ],
   "id": "76759f82-8e61-4fad-bfa2-178c5f465abd"
  },
  {
   "cell_type": "markdown",
   "metadata": {},
   "source": [
    "The results and the values obtained from this method are very similar to\n",
    "the ones obtained with the theoretical methods"
   ],
   "id": "30331d0f-9ade-469f-801e-cefa7fac4f54"
  },
  {
   "cell_type": "code",
   "execution_count": null,
   "metadata": {},
   "outputs": [],
   "source": [
    "cat('the mean of the predicted data y is: ',results$statistics[2])\n",
    "cat('\\n')\n",
    "sd<-results$statistics[4]\n",
    "cat('the variance of the predicted data y is: ', sd*sd)\n",
    "cat('\\n')\n",
    "cat('the median of predicted data is: ', results$quantiles[6])\n",
    "cat('\\n')\n",
    "cat('the credibility interval of predicted data is: [', results$quantiles[2],',',results$quantiles[10],']')"
   ],
   "id": "de59803a-a585-468c-9b40-e9ba309b1af2"
  },
  {
   "cell_type": "markdown",
   "metadata": {},
   "source": [
    "##jeffrey prior(observation 2) Here the results obtained with the\n",
    "jeffrey prior are shown"
   ],
   "id": "194d2303-16c3-433a-a2ef-d1af78bb8246"
  },
  {
   "cell_type": "code",
   "execution_count": null,
   "metadata": {},
   "outputs": [],
   "source": [
    "jagsModel <- jags.model(\"model5_2.bug\",data=data)\n",
    "update(jagsModel,1000)"
   ],
   "id": "8fed521d-8541-425e-962a-00e348336dd7"
  },
  {
   "cell_type": "code",
   "execution_count": null,
   "metadata": {},
   "outputs": [],
   "source": [
    "chain <- coda.samples(jagsModel, c(\"mu\",\"y\"), n.iter=20000) \n",
    "print(summary(chain))"
   ],
   "id": "449fdec7-2505-406f-828b-0da21edca16a"
  },
  {
   "cell_type": "code",
   "execution_count": null,
   "metadata": {},
   "outputs": [],
   "source": [
    "plot(chain[,1], col=\"darkred\")\n",
    "title('trace of mu and density of mu (jeffrey prior)')"
   ],
   "id": "a87d71df-c5bc-4466-be7d-de3309667cb8"
  },
  {
   "cell_type": "code",
   "execution_count": null,
   "metadata": {},
   "outputs": [],
   "source": [
    "df<-as.data.frame(as.mcmc(chain))"
   ],
   "id": "90c80068-f02e-4577-931d-bebe26dba370"
  },
  {
   "cell_type": "code",
   "execution_count": null,
   "metadata": {},
   "outputs": [],
   "source": [
    "plot(df$y, col=\"darkred\",type='l',ylab='')\n",
    "title('trace of predicted data y(jeffrey prior)')"
   ],
   "id": "40967e8f-0037-4c7f-8aa6-8ff5a7a61b40"
  },
  {
   "cell_type": "code",
   "execution_count": null,
   "metadata": {},
   "outputs": [],
   "source": [
    "ty <- table(df$y)\n",
    "barplot(ty, col=\"darkred\", main ='',xlab='y',ylab = 'frequency')\n",
    "title('histogram of predicted data y (jeffrey prior)')"
   ],
   "id": "ad27301a-f7da-40af-be6f-50e1dc3da147"
  },
  {
   "cell_type": "code",
   "execution_count": null,
   "metadata": {},
   "outputs": [],
   "source": [
    "results<-(summary(chain))\n",
    "results"
   ],
   "id": "2f122510-da70-4ef2-97fd-6897ff5da323"
  },
  {
   "cell_type": "code",
   "execution_count": null,
   "metadata": {},
   "outputs": [],
   "source": [
    "cat('the mean of mu is: ',results$statistics[1])\n",
    "cat('\\n')\n",
    "sd<-results$statistics[3]\n",
    "cat('the variance of mu is: ', sd*sd)\n",
    "cat('\\n')\n",
    "cat('the median of mu is: ', results$quantiles[5])\n",
    "cat('\\n')\n",
    "cat('the credibility interval of mu is: [', results$quantiles[1],',',results$quantiles[9],']')"
   ],
   "id": "073aef45-dbfe-41bb-bdc4-16b9c8fc73ce"
  },
  {
   "cell_type": "markdown",
   "metadata": {},
   "source": [
    "The results and the values obtained from this method are very similar to\n",
    "the ones obtained with the theoretical methods"
   ],
   "id": "bd2c8d75-74d0-4001-85a0-475831c04d5c"
  },
  {
   "cell_type": "code",
   "execution_count": null,
   "metadata": {},
   "outputs": [],
   "source": [
    "cat('the mean of the predicted data y is: ',results$statistics[2])\n",
    "cat('\\n')\n",
    "sd<-results$statistics[4]\n",
    "cat('the variance of the predicted data y is: ', sd*sd)\n",
    "cat('\\n')\n",
    "cat('the median of predicted data is: ', results$quantiles[6])\n",
    "cat('\\n')\n",
    "cat('the credibility interval of predicted data is: [', results$quantiles[2],',',results$quantiles[10],']')"
   ],
   "id": "395c1266-18a7-4587-8239-424266264c0a"
  },
  {
   "cell_type": "markdown",
   "metadata": {},
   "source": [
    "#Exercise 6\n",
    "\n",
    "The method used to create the data is the same of the Exercise 4."
   ],
   "id": "a1fc75db-ef44-4065-abd1-8e7dabd351bb"
  },
  {
   "cell_type": "code",
   "execution_count": null,
   "metadata": {},
   "outputs": [],
   "source": [
    "data <- NULL\n",
    "X<-rep(0,116)\n",
    "index<-sample(116,11)\n",
    "for (i in index) {\n",
    "  \n",
    "  X[i]=1\n",
    "}\n",
    "\n",
    "data$X <-X\n",
    "data$n_next <- 100"
   ],
   "id": "dfbe9969-5e6a-4b58-a431-e4b57818fa53"
  },
  {
   "cell_type": "code",
   "execution_count": null,
   "metadata": {},
   "outputs": [],
   "source": [
    "jagsModel <- jags.model(\"model6.bug\",data=data)\n",
    "update(jagsModel,1000)"
   ],
   "id": "90873888-63cf-4f8f-8d07-a9396cf82a25"
  },
  {
   "cell_type": "code",
   "execution_count": null,
   "metadata": {},
   "outputs": [],
   "source": [
    "chain <- coda.samples(jagsModel, c(\"p\",\"y\"), n.iter=20000) \n",
    "print(summary(chain))"
   ],
   "id": "e9ccac50-3aa4-497c-a5f9-89e757133e40"
  },
  {
   "cell_type": "code",
   "execution_count": null,
   "metadata": {},
   "outputs": [],
   "source": [
    "plot(chain[,1], col=\"darkorchid\")\n",
    "title('trace of p and density of p')"
   ],
   "id": "663a941f-4fba-42f3-9b6e-1c2067ffee78"
  },
  {
   "cell_type": "code",
   "execution_count": null,
   "metadata": {},
   "outputs": [],
   "source": [
    "df<-as.data.frame(as.mcmc(chain))"
   ],
   "id": "1c47488a-de53-4a07-8a12-405aa5dce2c8"
  },
  {
   "cell_type": "code",
   "execution_count": null,
   "metadata": {},
   "outputs": [],
   "source": [
    "plot(df$y, col=\"darkorchid\",type='l',ylab='')\n",
    "title('trace of predicted data y')"
   ],
   "id": "67af77a3-7289-45c6-956a-c1b521622755"
  },
  {
   "cell_type": "code",
   "execution_count": null,
   "metadata": {},
   "outputs": [],
   "source": [
    "ty <- table(df$y)\n",
    "barplot(ty, col=\"darkorchid\", main ='',xlab='y',ylab = 'frequency')\n",
    "title('histogram of predicted data y')"
   ],
   "id": "8cb179d5-4503-44cf-adfe-b2ac9a2f11cb"
  },
  {
   "cell_type": "code",
   "execution_count": null,
   "metadata": {},
   "outputs": [],
   "source": [
    "results<-(summary(chain))\n",
    "results"
   ],
   "id": "d15a2aed-1766-4687-8d8d-06fcfca23774"
  },
  {
   "cell_type": "code",
   "execution_count": null,
   "metadata": {},
   "outputs": [],
   "source": [
    "cat('the mean of p is: ',results$statistics[1])\n",
    "cat('\\n')\n",
    "sd<-results$statistics[3]\n",
    "cat('the variance of p is: ', sd*sd)\n",
    "cat('\\n')\n",
    "cat('the median of p is: ', results$quantiles[5])\n",
    "cat('\\n')\n",
    "cat('the credibility interval of p is: [', results$quantiles[1],',',results$quantiles[9],']')"
   ],
   "id": "d49b5555-4919-4ecc-abe9-e902e7e6eddc"
  },
  {
   "cell_type": "markdown",
   "metadata": {},
   "source": [
    "The results and the values obtained from this method are very similar to\n",
    "the ones obtained with the theoretical methods"
   ],
   "id": "70ba4f5f-e8bb-49bd-bce3-3fe1f123bc0a"
  },
  {
   "cell_type": "code",
   "execution_count": null,
   "metadata": {},
   "outputs": [],
   "source": [
    "cat('the mean of the predicted data y is: ',results$statistics[2])\n",
    "cat('\\n')\n",
    "sd<-results$statistics[4]\n",
    "cat('the variance of the predicted data y is: ', sd*sd)\n",
    "cat('\\n')\n",
    "cat('the median of predicted data is: ', results$quantiles[6])\n",
    "cat('\\n')\n",
    "cat('the credibility interval of predicted data is: [', results$quantiles[2],',',results$quantiles[10],']')"
   ],
   "id": "236dd491-dbc5-47c3-847c-079397b20140"
  }
 ],
 "nbformat": 4,
 "nbformat_minor": 5,
 "metadata": {
  "kernelspec": {
   "name": "ir",
   "display_name": "R",
   "language": "R"
  }
 }
}
