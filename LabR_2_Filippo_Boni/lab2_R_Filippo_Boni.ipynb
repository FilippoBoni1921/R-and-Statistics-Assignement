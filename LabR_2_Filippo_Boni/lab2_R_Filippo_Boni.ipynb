{
 "cells": [
  {
   "cell_type": "code",
   "execution_count": null,
   "metadata": {},
   "outputs": [],
   "source": [
    "#install.packages(\"polynom\")\n",
    "#install.packages(\"ggplot2\")"
   ],
   "id": "df333a60-3edd-4271-886b-0cec5a8be9ba"
  },
  {
   "cell_type": "code",
   "execution_count": null,
   "metadata": {},
   "outputs": [],
   "source": [
    "library(polynom)"
   ],
   "id": "d0da7b09-96be-41fc-a4de-99ca31c3483a"
  },
  {
   "cell_type": "code",
   "execution_count": null,
   "metadata": {},
   "outputs": [],
   "source": [
    "library(ggplot2)"
   ],
   "id": "28c2401f-980b-49ea-9d65-f3cc0721a4d5"
  },
  {
   "cell_type": "code",
   "execution_count": null,
   "metadata": {},
   "outputs": [],
   "source": [
    "rm(list=ls())"
   ],
   "id": "a433b0ab-6bb5-41f8-a9de-41b2b8284f23"
  },
  {
   "cell_type": "markdown",
   "metadata": {},
   "source": [
    "#Exercise 1\n",
    "\n",
    "I create the needed array with the values of the table."
   ],
   "id": "4e13e789-d4d1-4119-80bc-82065d8094e3"
  },
  {
   "cell_type": "code",
   "execution_count": null,
   "metadata": {},
   "outputs": [],
   "source": [
    "x<-c(15.58,15.9,16.0,16.1,16.2) #vector x\n",
    "p1<-c(0.15,0.21,0.35,0.15,0.14) #vector of the probabilities of the first method\n",
    "p2<-c(0.14,0.05,0.64,0.08,0.09) #vector of the probabilities of the second method"
   ],
   "id": "e09672d3-da51-437b-9dfb-87f4cb9a7eee"
  },
  {
   "cell_type": "markdown",
   "metadata": {},
   "source": [
    "For both the methods I calculate the expected value and variance using\n",
    "the theoretical definition."
   ],
   "id": "2f56e57c-1ba7-4d19-865b-c29962a4a91d"
  },
  {
   "cell_type": "code",
   "execution_count": null,
   "metadata": {},
   "outputs": [],
   "source": [
    "#first method\n",
    "expected_value_method_1<-sum(x*p1) #calculate the expected value\n",
    "variance_method_1<-sum(x*x*p1)-expected_value_method_1*expected_value_method_1#calculate the variance\n",
    "\n",
    "#second method\n",
    "expected_value_method_2<-sum(x*p2)\n",
    "variance_method_2<-sum(x*x*p2)-expected_value_method_2*expected_value_method_2"
   ],
   "id": "856b14ef-ed0e-40b7-b60c-2ae58eeb7a68"
  },
  {
   "cell_type": "code",
   "execution_count": null,
   "metadata": {},
   "outputs": [],
   "source": [
    "cat(\"the expected value of the first method is\", expected_value_method_1, \"and the varaince is\" ,variance_method_1)\n",
    "cat(\"\\n\")\n",
    "cat(\"the expected value of the first method is\" ,expected_value_method_2, \"and the varaince is\" ,variance_method_2)"
   ],
   "id": "05276a41-f00f-466f-8bde-3b8129320e5b"
  },
  {
   "cell_type": "markdown",
   "metadata": {},
   "source": [
    "#Exercise 2\n",
    "\n",
    "Using the rexp function, I generate the samples according to the pdf\n",
    "chosen and I plot an histogram of them."
   ],
   "id": "521a834d-e5da-4938-8d67-b1af87d4bf84"
  },
  {
   "cell_type": "code",
   "execution_count": null,
   "metadata": {},
   "outputs": [],
   "source": [
    "people<-rexp(50,rate=1/30) #generating samples\n",
    "\n",
    "\n",
    "ggplot(data.frame(x = people),aes(x))+geom_histogram(col='navy',fill='orchid2')+xlab(\"minutes\")+ylab(\"Counts\")+ggtitle('Histograms of the waiting minutes')+scale_x_continuous(breaks=seq(0,150, 10))+theme(axis.text.x = element_text(face=\"bold.italic\", size=10), axis.text.y = element_text(face=\"bold.italic\", size=10)) #plot "
   ],
   "id": "7206eb29-bd03-4ef1-9d23-e7fe897d6c6b"
  },
  {
   "cell_type": "markdown",
   "metadata": {},
   "source": [
    "Since the samples are sampled using an exponential pdf I expect to see\n",
    "an histogram with a shape of decreasing exponential function. I obtain\n",
    "something like that, but it would be more evident with more samples.\n",
    "\n",
    "To calculate the probability to wait less than 10 minutes I use the\n",
    "function pexp() which allows to calculate the cdf of a pdf from 0 to the\n",
    "specified value(10 in this case)."
   ],
   "id": "bd2be5be-34a9-4b2b-8935-833a21b7858a"
  },
  {
   "cell_type": "code",
   "execution_count": null,
   "metadata": {},
   "outputs": [],
   "source": [
    "prob_less_10<-pexp(10,rate=1/30) #calculate the cdf from 0 to 10\n",
    "cat(\"the probability to wait less than 10 minutes is\",prob_less_10)"
   ],
   "id": "fe38fa9c-db61-4d8f-a978-94cfaca48680"
  },
  {
   "cell_type": "markdown",
   "metadata": {},
   "source": [
    "Using the definition of mean I calculate it and considering it as\n",
    "expected value I use it to calculate the variance"
   ],
   "id": "e3519beb-0ca9-4225-ae13-4bac45a98faa"
  },
  {
   "cell_type": "code",
   "execution_count": null,
   "metadata": {},
   "outputs": [],
   "source": [
    "samples<-people\n",
    "\n",
    "mean<-sum(samples)/(length(samples)) #calculate the mean by definition\n",
    "variance<-sum(samples*samples)/(length(samples))-mean*mean #calculate tha varaince using the meran\n",
    "\n",
    "cat(\"the average waiting time value is \", mean, \"minutes\")\n",
    "cat(\"\\n\")\n",
    "cat(\"the variance of the waiting time is\", variance, \"minutes\")"
   ],
   "id": "625ad20f-0223-4c65-86ba-a9319961fd16"
  },
  {
   "cell_type": "markdown",
   "metadata": {},
   "source": [
    "This can be compared to the expected values and variance by definition"
   ],
   "id": "193c4056-2324-473e-a430-645d01bc213d"
  },
  {
   "cell_type": "code",
   "execution_count": null,
   "metadata": {},
   "outputs": [],
   "source": [
    "x_exp_value_arg<-function(x) x*dexp(x,rate=1/30) #defining the function used to calculate the integral for the exxpected value\n",
    "\n",
    "expected_value<-integrate(x_exp_value_arg,0,Inf) #calculate the expected value using the integral\n",
    "cat(\"the theoric expected value is\", expected_value$value)\n",
    "\n",
    "cat(\"\\n\")\n",
    "\n",
    "x_square_exp_value_arg<-function(x) x*x*dexp(x,rate=1/30) #defining the function used to calculate the integral for the expected value of x^2\n",
    "\n",
    "expected_value_square<-integrate(x_square_exp_value_arg,0,Inf)# calculating the expected value of x^2\n",
    "cat(\"the theoric variance is\",(expected_value_square$value-expected_value$value*expected_value$value)) #calculating the variance and printing the result"
   ],
   "id": "75fad161-9c0c-4592-81ba-a3b616c00fa0"
  },
  {
   "cell_type": "markdown",
   "metadata": {},
   "source": [
    "Moreover we know from theory that the expected value of an exponentiale\n",
    "distribution is 1/lambda and the variance is 1/(lambda^2). Therefore in\n",
    "this case I have expected value E\\[x\\]=30 and varaince Var\\[x\\]=900.\n",
    "This results are obtain calculating the expected value and the variance\n",
    "using the integral theoric definitions. But the mean and the variance\n",
    "obtained from the samples are not the expected ones. Surely they are\n",
    "quite similar, but far to be comparable. This is probably caused by the\n",
    "small number of samples used. Lets verify it using N=100000 samples."
   ],
   "id": "100e1553-5046-473c-9e6f-6ff9d2cc65f4"
  },
  {
   "cell_type": "code",
   "execution_count": null,
   "metadata": {},
   "outputs": [],
   "source": [
    "people<-rexp(100000,rate=1/30) #generating samples\n",
    "\n",
    "\n",
    "ggplot(data.frame(x = people),aes(x))+geom_histogram(col='navy',fill='orchid2')+xlab(\"minutes\")+ylab(\"Counts\")+ggtitle('Histograms of the waiting minutes')+scale_x_continuous(breaks=seq(0,250, 25))+theme(axis.text.x = element_text(face=\"bold.italic\", size=10), axis.text.y = element_text(face=\"bold.italic\", size=10)) #plot "
   ],
   "id": "43f40c6d-75e3-4edd-8e68-4f3834309b0f"
  },
  {
   "cell_type": "code",
   "execution_count": null,
   "metadata": {},
   "outputs": [],
   "source": [
    "samples<-people\n",
    "\n",
    "mean<-sum(samples)/(length(samples))\n",
    "variance<-sum(samples*samples)/(length(samples))-mean*mean\n",
    "\n",
    "cat(\"the average waiting time value is \", mean, \"minutes\")\n",
    "cat(\"\\n\")\n",
    "cat(\"the variance of the waiting time is\", variance, \"minutes\")"
   ],
   "id": "fb36e66c-eb5d-4e21-ba7c-b695f0fd15b5"
  },
  {
   "cell_type": "markdown",
   "metadata": {},
   "source": [
    "The results obtained now are close to the theoretical values.\n",
    "\n",
    "To calculate the probability to wait more than one hour I use the cdf\n",
    "function to calculate the probability to wait less than one hour. Than I\n",
    "subtract this value to 1."
   ],
   "id": "67b3457f-8af8-4487-930a-e2da1173609c"
  },
  {
   "cell_type": "code",
   "execution_count": null,
   "metadata": {},
   "outputs": [],
   "source": [
    "prob_1_h<-1-pexp(60,rate=1/30) #calculate the probability\n",
    "cat(\"the probability to wait more than one hour is\", prob_1_h)"
   ],
   "id": "2caa0133-4921-4e9f-b823-debb3dd1a7aa"
  },
  {
   "cell_type": "markdown",
   "metadata": {},
   "source": [
    "#Exercise 3\n",
    "\n",
    "I define the needed array and the value of lambda in order to plot the\n",
    "Poisson pdf and cdf. Than I use the functions dpois() and ppois() to\n",
    "calculate the pdf and the cdf. Finally I plot them."
   ],
   "id": "82c20d33-3de9-4de0-9741-9a160a5f29de"
  },
  {
   "cell_type": "code",
   "execution_count": null,
   "metadata": {},
   "outputs": [],
   "source": [
    "lambda<-1/3 #setting the value of lambda\n",
    "x<-seq(-1,5,1) #defining the needed array\n",
    "x"
   ],
   "id": "6ad59b66-c070-4628-a0f7-7fecf2b99276"
  },
  {
   "cell_type": "code",
   "execution_count": null,
   "metadata": {},
   "outputs": [],
   "source": [
    "pdf_pois<-dpois(x,lambda) #defining the pdf\n",
    "\n",
    "ggplot(,aes(x,pdf_pois))+geom_bar(stat='identity',size=0.5,col='red',fill='yellow',,width=0.25)+geom_step(col=\"blue\",linetype=5)+geom_point(col='black')+ylab(' ')+ggtitle('Poisson probability distribution function (lambda=1/3)')+scale_x_continuous(breaks=seq(-1,5, 1))+scale_y_continuous(breaks=seq(0,0.8, 0.1))+theme(axis.text.x = element_text(face=\"bold.italic\", size=10), axis.text.y = element_text(face=\"bold.italic\", size=10)) #plot"
   ],
   "id": "997af2c0-7c69-4242-a7df-8b68d28cfcea"
  },
  {
   "cell_type": "markdown",
   "metadata": {},
   "source": [
    "As expected for small values of lambda, the pdf is asymetric."
   ],
   "id": "08a3a5d5-7ed0-4d94-8f87-753aa212d727"
  },
  {
   "cell_type": "code",
   "execution_count": null,
   "metadata": {},
   "outputs": [],
   "source": [
    "cum_pois<-ppois(x,lambda) #defining the cdf\n",
    "\n",
    "ggplot(,aes(x,cum_pois))+geom_bar(stat='identity',col='green',fill='white',size=0.5,width = 0.25)+geom_step(col=\"red\", linetype=5)+geom_point(col='black')+ylab(' ')+ggtitle('Poisson cumulative distribution function (lambda=1/3)')+scale_x_continuous(breaks=seq(-1,5, 1))+scale_y_continuous(breaks=seq(0,1, 0.1))+theme(axis.text.x = element_text(face=\"bold.italic\", size=10), axis.text.y = element_text(face=\"bold.italic\", size=10)) #plot"
   ],
   "id": "36011cb0-5547-4bba-ba46-195b96c31da0"
  },
  {
   "cell_type": "code",
   "execution_count": null,
   "metadata": {},
   "outputs": [],
   "source": [
    " #plot"
   ],
   "id": "d1a75254-32ae-4e92-bf85-838fec9a3c27"
  },
  {
   "cell_type": "markdown",
   "metadata": {},
   "source": [
    "To calculate the probability that there is at least one error on a\n",
    "specific page of the book I use the cdf function. Than I subtract this\n",
    "value to 1."
   ],
   "id": "7330bd03-5ada-46a7-8b38-cbd49ebc4b8e"
  },
  {
   "cell_type": "code",
   "execution_count": null,
   "metadata": {},
   "outputs": [],
   "source": [
    "prob_one_err<-1-ppois(0,lambda) #calculating the prob\n",
    "\n",
    "cat(\"the probability to find at least one error is\", prob_one_err)"
   ],
   "id": "0aa70bac-c4df-4a0b-9541-cdc218e8d7be"
  },
  {
   "cell_type": "markdown",
   "metadata": {},
   "source": [
    "#Exercise 4\n",
    "\n",
    "In order to calculate the probability needed I use the geometric\n",
    "distribution,since I need to calculate the probability connected to an\n",
    "event which is characterized by a certain number of failures and than an\n",
    "success. Firstly I set the value of the probability of the single event\n",
    "of drawning an ace that is p=4/52. I calculate using the mathematical\n",
    "expression p\\*(1-p)^i with i going from 0 to 9. I sum those values using\n",
    "a for loop. Than I subtract the sum from 1 to obtain the probability\n",
    "required."
   ],
   "id": "1447287b-ee68-41c8-8677-0ae9f1ead075"
  },
  {
   "cell_type": "code",
   "execution_count": null,
   "metadata": {},
   "outputs": [],
   "source": [
    "prob_1_9<-0 #initializing the value for the needed probability\n",
    "p<-4/52 #setting the probability of drwaning an ace\n",
    "\n",
    "for (i in 0:9) {\n",
    "  \n",
    "  prob_1_9<-prob_1_9+p*((1-p)^(i)) #calculating the probability using the for loop\n",
    "  \n",
    "}\n",
    "\n",
    "prob_atleats_10<-1-prob_1_9 #calculating the final required probability \n",
    "\n",
    "cat(\" the probability that at least 10 draws are needed is\", prob_atleats_10)"
   ],
   "id": "869b0220-3589-4813-a383-4d88a782028f"
  },
  {
   "cell_type": "markdown",
   "metadata": {},
   "source": [
    "I compare the value obtained using the cdf function"
   ],
   "id": "8526084b-afc3-4761-ba9f-7ec293f6d13e"
  },
  {
   "cell_type": "code",
   "execution_count": null,
   "metadata": {},
   "outputs": [],
   "source": [
    "prob_atleats_10<-1-pgeom(9,4/52) #calculating the probability using the cdf function\n",
    "cat(\" the probability that at least 10 draws are needed is\", prob_atleats_10)"
   ],
   "id": "64ac581d-de59-44ab-a0e2-fe8aedb35d8a"
  },
  {
   "cell_type": "markdown",
   "metadata": {},
   "source": [
    "The two values are the same. The estimate is correct.\n",
    "\n",
    "#Exercise 5\n",
    "\n",
    "I define the pdf function as presented in the exercise."
   ],
   "id": "c1ae0611-3920-4c75-ae98-c4d0f9aa2608"
  },
  {
   "cell_type": "code",
   "execution_count": null,
   "metadata": {},
   "outputs": [],
   "source": [
    "pdf_not_norm<-function(x){ #defining the pdf with a function\n",
    "  \n",
    "  if (x>1 && x<2){\n",
    "    \n",
    "    out<-(x-1)*(2-x)\n",
    "    \n",
    "  } else {\n",
    "    \n",
    "    out<-0\n",
    "    \n",
    "  }\n",
    "  \n",
    "  return(out)\n",
    "}"
   ],
   "id": "877eb8ac-46eb-4991-ac36-b2a05cab0cf4"
  },
  {
   "cell_type": "markdown",
   "metadata": {},
   "source": [
    "Integrating the pdf between -infinite and +infinite I calculate the\n",
    "normalization constant."
   ],
   "id": "601f2671-ecb1-47a7-861e-06998511369a"
  },
  {
   "cell_type": "code",
   "execution_count": null,
   "metadata": {},
   "outputs": [],
   "source": [
    "N<-integrate(Vectorize(pdf_not_norm),-Inf,Inf) #calculating the constant integrating the pdf \n",
    "cat(\"the normalization constant is\", N$value)\n",
    "cat(\"\\n\")\n",
    "cat(\"the value of the costant c required by the exercise is \", 1/(N$value))"
   ],
   "id": "ef433d0a-49b8-466c-a551-5c304b7d6c82"
  },
  {
   "cell_type": "markdown",
   "metadata": {},
   "source": [
    "I redefine the pdf function but now it is normalized."
   ],
   "id": "5675c6d4-7df9-4e16-ad95-0e76155b542e"
  },
  {
   "cell_type": "code",
   "execution_count": null,
   "metadata": {},
   "outputs": [],
   "source": [
    "pdf<-function(x,c=6){ #defining the normalized pdf using a function\n",
    "\n",
    "  out<-c()\n",
    "  \n",
    "  for (i in 1:length(x)) {\n",
    "    \n",
    "    if (x[i]>1 && x[i]<2){\n",
    "      \n",
    "      out<-append(out,c*(x[i]-1)*(2-x[i]))\n",
    "    } else {\n",
    "      \n",
    "      out<-append(out,0)\n",
    "    }\n",
    "  \n",
    "  }\n",
    "  \n",
    "  return(out)\n",
    "}"
   ],
   "id": "8326785c-ac15-45db-8d5a-70476d61b412"
  },
  {
   "cell_type": "markdown",
   "metadata": {},
   "source": [
    "Lets check if it is correctly normalized"
   ],
   "id": "62a55462-2853-476f-8cda-263072829d04"
  },
  {
   "cell_type": "code",
   "execution_count": null,
   "metadata": {},
   "outputs": [],
   "source": [
    "cat(\"the total area of the pdf is: \",integrate(pdf,-Inf,Inf)$value)"
   ],
   "id": "a050fd40-8ba7-444d-8dc9-da024b57e331"
  },
  {
   "cell_type": "markdown",
   "metadata": {},
   "source": [
    "Seen the result is 1 the pdf is correctly normalized.\n",
    "\n",
    "In order to calculate the cdf I use a for loop, which calculates the\n",
    "integral of the pdf from 0 to the values of the vector in input of the\n",
    "function. The output is a vector containing the values calculated. I am\n",
    "aware of the fact that the integral should be calculated from -Inf but I\n",
    "had some problems with the integrate() function. Since the pdf is zero\n",
    "from -Inf to 1, the integral can be calculated from 0."
   ],
   "id": "433a6944-f221-4057-aa6a-bd725afc2e13"
  },
  {
   "cell_type": "code",
   "execution_count": null,
   "metadata": {},
   "outputs": [],
   "source": [
    "cdf<-function(x){ #defining the cdf using a function\n",
    "  \n",
    "  out<-c()\n",
    "  \n",
    "  for (i in 1:length(x)) {\n",
    "    out<-append(out,integrate(pdf,0,x[i])) #integrating the pdf\n",
    "  }\n",
    "  \n",
    "  \n",
    "  return(out)\n",
    "}"
   ],
   "id": "28d7105f-c518-4eb9-95c3-9dfea2d10a06"
  },
  {
   "cell_type": "markdown",
   "metadata": {},
   "source": [
    "For this function I use the polynomial function which permits to define\n",
    "a polynomial with the coefficients listed in the vector (polynomial\n",
    "documentation:\n",
    "“<https://www.rdocumentation.org/packages/polynom/versions/1.4-0/topics/polynomial>”).\n",
    "The polynomial defined is the one of the cdf function. Using the solve()\n",
    "I calculate the zeros of the following expression: polynomial-x, where\n",
    "polynomial is the expression of the cdf function and x is the value of\n",
    "the element of the vector in input. The output is a vector containing\n",
    "the values of the quantile function."
   ],
   "id": "de7709c5-4362-40a2-aeaa-33d254f539dd"
  },
  {
   "cell_type": "code",
   "execution_count": null,
   "metadata": {},
   "outputs": [],
   "source": [
    "qpdf<-function(x){ #defining the quantile function using a function\n",
    "  \n",
    "  poly <- polynomial(c((5/6), -2, (3/2), -(1/3))) #defining the polinomial\n",
    "  out<-solve(poly-x) #finding the zeros of the expression\n",
    "  return(out)\n",
    "}"
   ],
   "id": "55bb888f-4b13-4f4f-8344-c0c0804591dc"
  },
  {
   "cell_type": "markdown",
   "metadata": {},
   "source": [
    "To generate samples according to the pdf, I generate n samples from a\n",
    "uniform distribution between 0 and 1. Than I use the quantile function\n",
    "to generate samples according to the pdf. The input is n that is the\n",
    "number of samples generated."
   ],
   "id": "dcc54cff-6397-479b-957c-4ae78a73dc80"
  },
  {
   "cell_type": "code",
   "execution_count": null,
   "metadata": {},
   "outputs": [],
   "source": [
    "rpdf<-function(n){ #defining the function to sample random numbers distributed as the pdf\n",
    "  \n",
    "  var<-runif(n) #sampling numbers between 0 and 1 from a uniform distribution\n",
    "  out<-qpdf(var) #generating the random numbers using the quantile function\n",
    "  \n",
    "}"
   ],
   "id": "37ab4329-78e8-4cca-b901-44247072b7c4"
  },
  {
   "cell_type": "markdown",
   "metadata": {},
   "source": [
    "I use a function to plot the pdf and cdf functions."
   ],
   "id": "a651a07b-c5c9-4423-ace2-00c5b1e67cf3"
  },
  {
   "cell_type": "code",
   "execution_count": null,
   "metadata": {},
   "outputs": [],
   "source": [
    "plt_pdf_cdf<-function(x){\n",
    "\n",
    "  plt_list<-list() #initializing the list of plots\n",
    "  pdf_f<-pdf(x) \n",
    "  \n",
    "  plt<-ggplot(,aes(x,pdf_f))+geom_bar(stat='identity',col='red',fill='yellow',size=0.25,width=0.05)+geom_line(col='blue',size=1)+ylab(' ')+ggtitle('Probability distribution function')+theme(axis.text.x = element_text(face=\"bold.italic\", size=10), axis.text.y = element_text(face=\"bold.italic\", size=10)) #plot\n",
    "  \n",
    "  plt_list<-list(plt_list,plt)\n",
    "  \n",
    "  cum<-cdf(x)\n",
    "  y<-cum[seq(1,length(cum),5)]\n",
    "  \n",
    "  plt<-ggplot(,aes(x,as.numeric(y)))+geom_bar(stat='identity',col='green',fill='white',size=0.25,width=0.05)+geom_line(col='red',size=1)+ylab(' ')+ggtitle('Cumulative distributiont function')+scale_y_continuous(breaks=seq(0,1, 0.1))+theme(axis.text.x = element_text(face=\"bold.italic\", size=10), axis.text.y = element_text(face=\"bold.italic\", size=10)) #plot\n",
    "  \n",
    "  plt_list<-list(plt,plt_list)\n",
    "  \n",
    "  return(plt_list)\n",
    "  \n",
    "}"
   ],
   "id": "cdc5818d-a0bb-4007-aac1-b48b26e88ddb"
  },
  {
   "cell_type": "code",
   "execution_count": null,
   "metadata": {},
   "outputs": [],
   "source": [
    "plt_pdf_cdf(seq(0,3,0.05))"
   ],
   "id": "d5d90dfe-072b-47f5-a991-07c99fabc27d"
  },
  {
   "cell_type": "markdown",
   "metadata": {},
   "source": [
    "To calculate the probability that the student will finish the aptitude\n",
    "test in more than 75 minutes and the probability it will take between 90\n",
    "and 120 minutes I use the cdf function."
   ],
   "id": "f7b9cae1-f8f3-421e-b7c0-5cb545d4839d"
  },
  {
   "cell_type": "code",
   "execution_count": null,
   "metadata": {},
   "outputs": [],
   "source": [
    "prob_more_75<-integrate(pdf,-Inf,1.25) #calculating the probability integrating the pdf\n",
    "\n",
    "prob_90_120<-integrate(pdf,1.5,2) #calculating the probability integrating the pdf\n",
    "\n",
    "cat(\"the probability that the student will finish the aptitude test in more than 75 minutes is \", prob_more_75$value)\n",
    "cat(\"\\n\")\n",
    "cat(\"the probability it will take 90 and 120 minutes is \", prob_90_120$value)"
   ],
   "id": "551c2fae-d6b6-4c0e-9710-084ac192016a"
  },
  {
   "cell_type": "markdown",
   "metadata": {},
   "source": [
    "#Exercise 6\n",
    "\n",
    "In order to calculate the pdf and cdf I use the same processes of\n",
    "before."
   ],
   "id": "08b3f85e-6c04-496c-b91c-b10c7fc327f3"
  },
  {
   "cell_type": "code",
   "execution_count": null,
   "metadata": {},
   "outputs": [],
   "source": [
    "pdf<-function(x){\n",
    "\n",
    "  out<-c()\n",
    "  \n",
    "  for (i in 1:length(x)) {\n",
    "    \n",
    "    if (x[i]>1 && x[i]<2){\n",
    "      \n",
    "      out<-append(out,2/(x[i]*x[i]))\n",
    "    } else {\n",
    "      \n",
    "      out<-append(out,0)\n",
    "    }\n",
    "  \n",
    "  }\n",
    "  \n",
    "  return(out)\n",
    "}"
   ],
   "id": "e3fe070c-e45b-4990-99ad-10644219d80f"
  },
  {
   "cell_type": "code",
   "execution_count": null,
   "metadata": {},
   "outputs": [],
   "source": [
    "cdf<-function(x){\n",
    "  \n",
    "  out<-c()\n",
    "  \n",
    "  for (i in 1:length(x)) {\n",
    "    out<-append(out,integrate(pdf,0,x[i]))\n",
    "  }\n",
    "  \n",
    "  return(out)\n",
    "}"
   ],
   "id": "9200f73f-0a18-40a5-9d3e-db3b54755cf5"
  },
  {
   "cell_type": "markdown",
   "metadata": {},
   "source": [
    "In order to calculate the quantile function I just invert the expression\n",
    "of the cdf function. Indeed differently from the previous case doing\n",
    "this operation is not complicated"
   ],
   "id": "1efcf633-adf3-451f-96ac-2d4f82c1db45"
  },
  {
   "cell_type": "code",
   "execution_count": null,
   "metadata": {},
   "outputs": [],
   "source": [
    "qpdf<-function(x){\n",
    "  \n",
    "  out<-c()\n",
    "  \n",
    "  for (i in 1:length(x)) {\n",
    "    out<-append(out,-2/(x[i]-2))\n",
    "  }\n",
    "  \n",
    "  \n",
    "  return(out)\n",
    " \n",
    "}"
   ],
   "id": "721804c2-f884-4bdc-ba0c-deb4bccd403d"
  },
  {
   "cell_type": "markdown",
   "metadata": {},
   "source": [
    "To generate the random numbers I repeat the process used in the Exercise\n",
    "5"
   ],
   "id": "b57aa2ec-ef37-408c-99be-2cfd9d132708"
  },
  {
   "cell_type": "code",
   "execution_count": null,
   "metadata": {},
   "outputs": [],
   "source": [
    "rpdf<-function(n){\n",
    "  \n",
    "  var<-runif(n)\n",
    "  var<-sort(var)\n",
    "  \n",
    "  out<-c()\n",
    "\n",
    "  out<-append(out,qpdf(var))\n",
    "\n",
    "\n",
    "  return(out)\n",
    "  \n",
    "}"
   ],
   "id": "9bb09635-46d0-49d1-a175-1a42bf6653ab"
  },
  {
   "cell_type": "code",
   "execution_count": null,
   "metadata": {},
   "outputs": [],
   "source": [
    "plt_pdf_cdf(seq(0,3,0.05))"
   ],
   "id": "4763c39e-3e8a-4273-bbea-418cea369949"
  },
  {
   "cell_type": "markdown",
   "metadata": {},
   "source": [
    "I use the cdf to determine the probability that tires will last less\n",
    "than 15000 km"
   ],
   "id": "137c126a-ceae-4cf8-9560-cbcf05803489"
  },
  {
   "cell_type": "code",
   "execution_count": null,
   "metadata": {},
   "outputs": [],
   "source": [
    "prob_less_15<-integrate(pdf,-Inf,1.5) #calculating the probability integrating the pdf\n",
    "\n",
    "cat(\"the probability that tires will last less than 15000 km is\", prob_less_15$value)"
   ],
   "id": "f7f495ef-e76c-4b2f-9e84-fca819183bbe"
  },
  {
   "cell_type": "markdown",
   "metadata": {},
   "source": [
    "Using the definition of mean I calculate it and considering it as\n",
    "expected value I use it to calculate the variance"
   ],
   "id": "c8b5b22c-61a2-439a-9d48-2a833130ebcf"
  },
  {
   "cell_type": "code",
   "execution_count": null,
   "metadata": {},
   "outputs": [],
   "source": [
    "samples<-rpdf(3000)\n",
    "\n",
    "mean<-sum(samples)/(length(samples)) #calculating the mean of the samples using the definition\n",
    "variance<-sum(samples*samples)/(length(samples))-mean*mean #calculating the variance using the mean\n",
    "\n",
    "cat(\"the mean value is \", mean*10000, \"km\")\n",
    "cat(\"\\n\")\n",
    "cat(\"the variance is\", variance*10000, \"km\")"
   ],
   "id": "eb28673d-641d-40ac-8049-2ab05500fd86"
  },
  {
   "cell_type": "markdown",
   "metadata": {},
   "source": [
    "This can be compared to the expected values and variance by definition"
   ],
   "id": "2b3bf386-737b-449c-a486-c94eace6724c"
  },
  {
   "cell_type": "code",
   "execution_count": null,
   "metadata": {},
   "outputs": [],
   "source": [
    "x_exp_value_arg<-function(x) x*pdf(x) #defining the function used to calculate the integral for the exxpected value\n",
    "\n",
    "\n",
    "expected_value<-integrate(x_exp_value_arg,1,2) #calculate the expected value using the integral\n",
    "cat(\"the theoric expected value is\", expected_value$value*10000)\n",
    "\n",
    "cat(\"\\n\")\n",
    "\n",
    "x_square_exp_value_arg<-function(x) x*x*pdf(x) #defining the function used to calculate the integral for the expected value of x^2\n",
    "expected_value_square<-integrate(x_square_exp_value_arg,1,2) #calculating the expected value of x^2\n",
    "cat(\"the theoric variance is\", 10000*(expected_value_square$value-expected_value$value*expected_value$value)) #calculating the variance and printing the result"
   ],
   "id": "a6336b94-4ac1-46bc-88ef-b0747036959d"
  },
  {
   "cell_type": "markdown",
   "metadata": {},
   "source": [
    "The value obtained are similar to the ones obtained by the random\n",
    "numbers so the estimate obtained is correct."
   ],
   "id": "4df9e154-f2ea-4bdf-9573-9e8f8c97f332"
  }
 ],
 "nbformat": 4,
 "nbformat_minor": 5,
 "metadata": {
  "kernelspec": {
   "name": "ir",
   "display_name": "R",
   "language": "R"
  }
 }
}
